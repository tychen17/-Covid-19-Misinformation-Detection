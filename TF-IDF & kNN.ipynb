{
 "cells": [
  {
   "cell_type": "code",
   "execution_count": 29,
   "id": "ff10436e",
   "metadata": {},
   "outputs": [
    {
     "name": "stderr",
     "output_type": "stream",
     "text": [
      "[nltk_data] Downloading package punkt to\n",
      "[nltk_data]     C:\\Users\\Kelvin\\AppData\\Roaming\\nltk_data...\n",
      "[nltk_data]   Package punkt is already up-to-date!\n"
     ]
    },
    {
     "data": {
      "text/plain": [
       "True"
      ]
     },
     "execution_count": 29,
     "metadata": {},
     "output_type": "execute_result"
    },
    {
     "name": "stderr",
     "output_type": "stream",
     "text": [
      "[nltk_data] Downloading package stopwords to\n",
      "[nltk_data]     C:\\Users\\Kelvin\\AppData\\Roaming\\nltk_data...\n",
      "[nltk_data]   Package stopwords is already up-to-date!\n"
     ]
    },
    {
     "data": {
      "text/plain": [
       "True"
      ]
     },
     "execution_count": 29,
     "metadata": {},
     "output_type": "execute_result"
    },
    {
     "name": "stderr",
     "output_type": "stream",
     "text": [
      "[nltk_data] Downloading package wordnet to\n",
      "[nltk_data]     C:\\Users\\Kelvin\\AppData\\Roaming\\nltk_data...\n",
      "[nltk_data]   Package wordnet is already up-to-date!\n"
     ]
    },
    {
     "data": {
      "text/plain": [
       "True"
      ]
     },
     "execution_count": 29,
     "metadata": {},
     "output_type": "execute_result"
    },
    {
     "name": "stderr",
     "output_type": "stream",
     "text": [
      "[nltk_data] Downloading package averaged_perceptron_tagger to\n",
      "[nltk_data]     C:\\Users\\Kelvin\\AppData\\Roaming\\nltk_data...\n",
      "[nltk_data]   Package averaged_perceptron_tagger is already up-to-\n",
      "[nltk_data]       date!\n"
     ]
    },
    {
     "data": {
      "text/plain": [
       "True"
      ]
     },
     "execution_count": 29,
     "metadata": {},
     "output_type": "execute_result"
    },
    {
     "name": "stderr",
     "output_type": "stream",
     "text": [
      "[nltk_data] Downloading package stopwords to\n",
      "[nltk_data]     C:\\Users\\Kelvin\\AppData\\Roaming\\nltk_data...\n",
      "[nltk_data]   Package stopwords is already up-to-date!\n"
     ]
    },
    {
     "data": {
      "text/plain": [
       "True"
      ]
     },
     "execution_count": 29,
     "metadata": {},
     "output_type": "execute_result"
    }
   ],
   "source": [
    "from IPython.core.interactiveshell import InteractiveShell\n",
    "InteractiveShell.ast_node_interactivity = \"all\"\n",
    "import numpy as np\n",
    "import pandas as pd\n",
    "from sklearn import metrics\n",
    "from nltk.cluster import KMeansClusterer,cosine_distance,euclidean_distance\n",
    "from sklearn import metrics\n",
    "from sklearn.metrics import accuracy_score\n",
    "from sklearn import mixture\n",
    "from sklearn.decomposition import LatentDirichletAllocation\n",
    "from sklearn.model_selection import train_test_split\n",
    "from nltk.corpus import stopwords\n",
    "from sklearn.neighbors import KNeighborsClassifier\n",
    "import nltk\n",
    "import re\n",
    "import random\n",
    "import emoji\n",
    "import pandas as pd\n",
    "from sklearn.feature_extraction.text import TfidfVectorizer\n",
    "from sklearn.naive_bayes import MultinomialNB\n",
    "from sklearn import svm\n",
    "from sklearn.metrics import precision_recall_fscore_support\n",
    "from sklearn.metrics import roc_curve, auc,precision_recall_curve\n",
    "from sklearn.metrics import classification_report\n",
    "from matplotlib import pyplot as plt\n",
    "from sklearn.pipeline import Pipeline\n",
    "from sklearn.model_selection import GridSearchCV\n",
    "import numpy as np\n",
    "import chardet\n",
    "import matplotlib.pyplot as plt\n",
    "nltk.download('punkt')\n",
    "nltk.download('stopwords')\n",
    "nltk.download('wordnet')\n",
    "nltk.download('averaged_perceptron_tagger')\n",
    "from nltk.stem import WordNetLemmatizer\n",
    "from nltk import word_tokenize, sent_tokenize, pos_tag\n",
    "nltk.download ('stopwords')"
   ]
  },
  {
   "cell_type": "code",
   "execution_count": 4,
   "id": "519d5f3e",
   "metadata": {},
   "outputs": [
    {
     "data": {
      "text/html": [
       "<div>\n",
       "<style scoped>\n",
       "    .dataframe tbody tr th:only-of-type {\n",
       "        vertical-align: middle;\n",
       "    }\n",
       "\n",
       "    .dataframe tbody tr th {\n",
       "        vertical-align: top;\n",
       "    }\n",
       "\n",
       "    .dataframe thead th {\n",
       "        text-align: right;\n",
       "    }\n",
       "</style>\n",
       "<table border=\"1\" class=\"dataframe\">\n",
       "  <thead>\n",
       "    <tr style=\"text-align: right;\">\n",
       "      <th></th>\n",
       "      <th>Date</th>\n",
       "      <th>Text</th>\n",
       "    </tr>\n",
       "  </thead>\n",
       "  <tbody>\n",
       "    <tr>\n",
       "      <th>0</th>\n",
       "      <td>2022/3/24 19:02</td>\n",
       "      <td>Those blood pressure medications have had deca...</td>\n",
       "    </tr>\n",
       "    <tr>\n",
       "      <th>1</th>\n",
       "      <td>2022/3/24 19:02</td>\n",
       "      <td>Kettering Health doctor works to build trust t...</td>\n",
       "    </tr>\n",
       "    <tr>\n",
       "      <th>2</th>\n",
       "      <td>2022/3/24 19:02</td>\n",
       "      <td>NOW is the time to get boosted. Household memb...</td>\n",
       "    </tr>\n",
       "    <tr>\n",
       "      <th>3</th>\n",
       "      <td>2022/3/24 19:02</td>\n",
       "      <td>Watch Dudu Sher-Arami, Director of Public Heal...</td>\n",
       "    </tr>\n",
       "    <tr>\n",
       "      <th>4</th>\n",
       "      <td>2022/3/24 19:02</td>\n",
       "      <td>In partnership with the Cayuga County Health D...</td>\n",
       "    </tr>\n",
       "    <tr>\n",
       "      <th>...</th>\n",
       "      <td>...</td>\n",
       "      <td>...</td>\n",
       "    </tr>\n",
       "    <tr>\n",
       "      <th>57761</th>\n",
       "      <td>2022/3/16 14:20</td>\n",
       "      <td>WTO DG Okonjo-Iweala Welcomes Breakthrough On ...</td>\n",
       "    </tr>\n",
       "    <tr>\n",
       "      <th>57762</th>\n",
       "      <td>2022/3/16 14:20</td>\n",
       "      <td>Here's why you might need a fourth COVID #vacc...</td>\n",
       "    </tr>\n",
       "    <tr>\n",
       "      <th>57763</th>\n",
       "      <td>2022/3/16 14:20</td>\n",
       "      <td>Theres a vaccine clinic open today for kids ag...</td>\n",
       "    </tr>\n",
       "    <tr>\n",
       "      <th>57764</th>\n",
       "      <td>2022/3/16 14:19</td>\n",
       "      <td>Global powers inch closer to agreement to waiv...</td>\n",
       "    </tr>\n",
       "    <tr>\n",
       "      <th>57765</th>\n",
       "      <td>2022/3/16 14:19</td>\n",
       "      <td>\"As virus data grows, the J.&amp;amp;J. vaccine ho...</td>\n",
       "    </tr>\n",
       "  </tbody>\n",
       "</table>\n",
       "<p>57766 rows × 2 columns</p>\n",
       "</div>"
      ],
      "text/plain": [
       "                  Date                                               Text\n",
       "0      2022/3/24 19:02  Those blood pressure medications have had deca...\n",
       "1      2022/3/24 19:02  Kettering Health doctor works to build trust t...\n",
       "2      2022/3/24 19:02  NOW is the time to get boosted. Household memb...\n",
       "3      2022/3/24 19:02  Watch Dudu Sher-Arami, Director of Public Heal...\n",
       "4      2022/3/24 19:02  In partnership with the Cayuga County Health D...\n",
       "...                ...                                                ...\n",
       "57761  2022/3/16 14:20  WTO DG Okonjo-Iweala Welcomes Breakthrough On ...\n",
       "57762  2022/3/16 14:20  Here's why you might need a fourth COVID #vacc...\n",
       "57763  2022/3/16 14:20  Theres a vaccine clinic open today for kids ag...\n",
       "57764  2022/3/16 14:19  Global powers inch closer to agreement to waiv...\n",
       "57765  2022/3/16 14:19  \"As virus data grows, the J.&amp;J. vaccine ho...\n",
       "\n",
       "[57766 rows x 2 columns]"
      ]
     },
     "execution_count": 4,
     "metadata": {},
     "output_type": "execute_result"
    }
   ],
   "source": [
    "dataset = pd.read_csv(\"C:/Users/Kelvin/Desktop/Assignment/2022Spring/BIA660/Misinfodata_Twitter.csv\")\n",
    "dataset"
   ]
  },
  {
   "cell_type": "code",
   "execution_count": 5,
   "id": "cd35217b",
   "metadata": {},
   "outputs": [
    {
     "data": {
      "text/html": [
       "<div>\n",
       "<style scoped>\n",
       "    .dataframe tbody tr th:only-of-type {\n",
       "        vertical-align: middle;\n",
       "    }\n",
       "\n",
       "    .dataframe tbody tr th {\n",
       "        vertical-align: top;\n",
       "    }\n",
       "\n",
       "    .dataframe thead th {\n",
       "        text-align: right;\n",
       "    }\n",
       "</style>\n",
       "<table border=\"1\" class=\"dataframe\">\n",
       "  <thead>\n",
       "    <tr style=\"text-align: right;\">\n",
       "      <th></th>\n",
       "      <th>Date</th>\n",
       "      <th>Text</th>\n",
       "    </tr>\n",
       "  </thead>\n",
       "  <tbody>\n",
       "    <tr>\n",
       "      <th>0</th>\n",
       "      <td>2022/3/24 19:02</td>\n",
       "      <td>Those blood pressure medications have had deca...</td>\n",
       "    </tr>\n",
       "    <tr>\n",
       "      <th>1</th>\n",
       "      <td>2022/3/24 19:02</td>\n",
       "      <td>Kettering Health doctor works to build trust t...</td>\n",
       "    </tr>\n",
       "    <tr>\n",
       "      <th>2</th>\n",
       "      <td>2022/3/24 19:02</td>\n",
       "      <td>NOW is the time to get boosted. Household memb...</td>\n",
       "    </tr>\n",
       "    <tr>\n",
       "      <th>3</th>\n",
       "      <td>2022/3/24 19:02</td>\n",
       "      <td>Watch Dudu Sher-Arami, Director of Public Heal...</td>\n",
       "    </tr>\n",
       "    <tr>\n",
       "      <th>4</th>\n",
       "      <td>2022/3/24 19:02</td>\n",
       "      <td>In partnership with the Cayuga County Health D...</td>\n",
       "    </tr>\n",
       "    <tr>\n",
       "      <th>...</th>\n",
       "      <td>...</td>\n",
       "      <td>...</td>\n",
       "    </tr>\n",
       "    <tr>\n",
       "      <th>57761</th>\n",
       "      <td>2022/3/16 14:20</td>\n",
       "      <td>WTO DG Okonjo-Iweala Welcomes Breakthrough On ...</td>\n",
       "    </tr>\n",
       "    <tr>\n",
       "      <th>57762</th>\n",
       "      <td>2022/3/16 14:20</td>\n",
       "      <td>Here's why you might need a fourth COVID #vacc...</td>\n",
       "    </tr>\n",
       "    <tr>\n",
       "      <th>57763</th>\n",
       "      <td>2022/3/16 14:20</td>\n",
       "      <td>Theres a vaccine clinic open today for kids ag...</td>\n",
       "    </tr>\n",
       "    <tr>\n",
       "      <th>57764</th>\n",
       "      <td>2022/3/16 14:19</td>\n",
       "      <td>Global powers inch closer to agreement to waiv...</td>\n",
       "    </tr>\n",
       "    <tr>\n",
       "      <th>57765</th>\n",
       "      <td>2022/3/16 14:19</td>\n",
       "      <td>\"As virus data grows, the J.&amp;amp;J. vaccine ho...</td>\n",
       "    </tr>\n",
       "  </tbody>\n",
       "</table>\n",
       "<p>57741 rows × 2 columns</p>\n",
       "</div>"
      ],
      "text/plain": [
       "                  Date                                               Text\n",
       "0      2022/3/24 19:02  Those blood pressure medications have had deca...\n",
       "1      2022/3/24 19:02  Kettering Health doctor works to build trust t...\n",
       "2      2022/3/24 19:02  NOW is the time to get boosted. Household memb...\n",
       "3      2022/3/24 19:02  Watch Dudu Sher-Arami, Director of Public Heal...\n",
       "4      2022/3/24 19:02  In partnership with the Cayuga County Health D...\n",
       "...                ...                                                ...\n",
       "57761  2022/3/16 14:20  WTO DG Okonjo-Iweala Welcomes Breakthrough On ...\n",
       "57762  2022/3/16 14:20  Here's why you might need a fourth COVID #vacc...\n",
       "57763  2022/3/16 14:20  Theres a vaccine clinic open today for kids ag...\n",
       "57764  2022/3/16 14:19  Global powers inch closer to agreement to waiv...\n",
       "57765  2022/3/16 14:19  \"As virus data grows, the J.&amp;J. vaccine ho...\n",
       "\n",
       "[57741 rows x 2 columns]"
      ]
     },
     "execution_count": 5,
     "metadata": {},
     "output_type": "execute_result"
    }
   ],
   "source": [
    "dataset = dataset.dropna()\n",
    "dataset"
   ]
  },
  {
   "cell_type": "code",
   "execution_count": 6,
   "id": "8ce8d624",
   "metadata": {},
   "outputs": [
    {
     "data": {
      "text/html": [
       "<div>\n",
       "<style scoped>\n",
       "    .dataframe tbody tr th:only-of-type {\n",
       "        vertical-align: middle;\n",
       "    }\n",
       "\n",
       "    .dataframe tbody tr th {\n",
       "        vertical-align: top;\n",
       "    }\n",
       "\n",
       "    .dataframe thead th {\n",
       "        text-align: right;\n",
       "    }\n",
       "</style>\n",
       "<table border=\"1\" class=\"dataframe\">\n",
       "  <thead>\n",
       "    <tr style=\"text-align: right;\">\n",
       "      <th></th>\n",
       "      <th>Date</th>\n",
       "      <th>Text</th>\n",
       "    </tr>\n",
       "  </thead>\n",
       "  <tbody>\n",
       "    <tr>\n",
       "      <th>0</th>\n",
       "      <td>2022/3/24 19:02</td>\n",
       "      <td>Those blood pressure medications have had deca...</td>\n",
       "    </tr>\n",
       "    <tr>\n",
       "      <th>1</th>\n",
       "      <td>2022/3/24 19:02</td>\n",
       "      <td>Kettering Health doctor works to build trust t...</td>\n",
       "    </tr>\n",
       "    <tr>\n",
       "      <th>2</th>\n",
       "      <td>2022/3/24 19:02</td>\n",
       "      <td>NOW is the time to get boosted. Household memb...</td>\n",
       "    </tr>\n",
       "    <tr>\n",
       "      <th>3</th>\n",
       "      <td>2022/3/24 19:02</td>\n",
       "      <td>Watch Dudu Sher-Arami, Director of Public Heal...</td>\n",
       "    </tr>\n",
       "    <tr>\n",
       "      <th>4</th>\n",
       "      <td>2022/3/24 19:02</td>\n",
       "      <td>In partnership with the Cayuga County Health D...</td>\n",
       "    </tr>\n",
       "    <tr>\n",
       "      <th>...</th>\n",
       "      <td>...</td>\n",
       "      <td>...</td>\n",
       "    </tr>\n",
       "    <tr>\n",
       "      <th>2998</th>\n",
       "      <td>2022/3/24 12:22</td>\n",
       "      <td>Why is Miralax, a laxative, in the Covid- vacc...</td>\n",
       "    </tr>\n",
       "    <tr>\n",
       "      <th>2999</th>\n",
       "      <td>2022/3/24 12:22</td>\n",
       "      <td>ICYMI: Florida Republican Rep. Byron Donalds j...</td>\n",
       "    </tr>\n",
       "    <tr>\n",
       "      <th>3000</th>\n",
       "      <td>2022/3/24 12:22</td>\n",
       "      <td>file this under \"shit ive been saying since \" ...</td>\n",
       "    </tr>\n",
       "    <tr>\n",
       "      <th>3001</th>\n",
       "      <td>2022/3/24 12:22</td>\n",
       "      <td>In the #News at : AM  Moderna now has $ billio...</td>\n",
       "    </tr>\n",
       "    <tr>\n",
       "      <th>3002</th>\n",
       "      <td>2022/3/24 12:22</td>\n",
       "      <td>Injection objection: Dr Guy Hatchard discusses...</td>\n",
       "    </tr>\n",
       "  </tbody>\n",
       "</table>\n",
       "<p>3000 rows × 2 columns</p>\n",
       "</div>"
      ],
      "text/plain": [
       "                 Date                                               Text\n",
       "0     2022/3/24 19:02  Those blood pressure medications have had deca...\n",
       "1     2022/3/24 19:02  Kettering Health doctor works to build trust t...\n",
       "2     2022/3/24 19:02  NOW is the time to get boosted. Household memb...\n",
       "3     2022/3/24 19:02  Watch Dudu Sher-Arami, Director of Public Heal...\n",
       "4     2022/3/24 19:02  In partnership with the Cayuga County Health D...\n",
       "...               ...                                                ...\n",
       "2998  2022/3/24 12:22  Why is Miralax, a laxative, in the Covid- vacc...\n",
       "2999  2022/3/24 12:22  ICYMI: Florida Republican Rep. Byron Donalds j...\n",
       "3000  2022/3/24 12:22  file this under \"shit ive been saying since \" ...\n",
       "3001  2022/3/24 12:22  In the #News at : AM  Moderna now has $ billio...\n",
       "3002  2022/3/24 12:22  Injection objection: Dr Guy Hatchard discusses...\n",
       "\n",
       "[3000 rows x 2 columns]"
      ]
     },
     "execution_count": 6,
     "metadata": {},
     "output_type": "execute_result"
    }
   ],
   "source": [
    "dataset1 = dataset[0:3000]\n",
    "dataset1"
   ]
  },
  {
   "cell_type": "code",
   "execution_count": 7,
   "id": "cafb1a19",
   "metadata": {},
   "outputs": [
    {
     "name": "stdout",
     "output_type": "stream",
     "text": [
      "Empty DataFrame\n",
      "Columns: [Date, Text]\n",
      "Index: []\n"
     ]
    }
   ],
   "source": [
    "df2 = dataset1[dataset1.isnull().values==True] # 查找所有带NaN值的数据\n",
    "print(df2)"
   ]
  },
  {
   "cell_type": "code",
   "execution_count": 8,
   "id": "223d25f4",
   "metadata": {},
   "outputs": [
    {
     "data": {
      "text/plain": [
       "0       Those blood pressure medications have had deca...\n",
       "1       Kettering Health doctor works to build trust t...\n",
       "2       NOW is the time to get boosted. Household memb...\n",
       "3       Watch Dudu Sher-Arami, Director of Public Heal...\n",
       "4       In partnership with the Cayuga County Health D...\n",
       "                              ...                        \n",
       "2998    Why is Miralax, a laxative, in the Covid- vacc...\n",
       "2999    ICYMI: Florida Republican Rep. Byron Donalds j...\n",
       "3000    file this under \"shit ive been saying since \" ...\n",
       "3001    In the #News at : AM  Moderna now has $ billio...\n",
       "3002    Injection objection: Dr Guy Hatchard discusses...\n",
       "Name: Text, Length: 3000, dtype: object"
      ]
     },
     "execution_count": 8,
     "metadata": {},
     "output_type": "execute_result"
    }
   ],
   "source": [
    "Text = dataset1['Text']\n",
    "Text"
   ]
  },
  {
   "cell_type": "code",
   "execution_count": 9,
   "id": "a5e8fec0",
   "metadata": {},
   "outputs": [
    {
     "data": {
      "text/html": [
       "<div>\n",
       "<style scoped>\n",
       "    .dataframe tbody tr th:only-of-type {\n",
       "        vertical-align: middle;\n",
       "    }\n",
       "\n",
       "    .dataframe tbody tr th {\n",
       "        vertical-align: top;\n",
       "    }\n",
       "\n",
       "    .dataframe thead th {\n",
       "        text-align: right;\n",
       "    }\n",
       "</style>\n",
       "<table border=\"1\" class=\"dataframe\">\n",
       "  <thead>\n",
       "    <tr style=\"text-align: right;\">\n",
       "      <th></th>\n",
       "      <th>is_misinfo</th>\n",
       "      <th>text content</th>\n",
       "    </tr>\n",
       "  </thead>\n",
       "  <tbody>\n",
       "    <tr>\n",
       "      <th>0</th>\n",
       "      <td>0</td>\n",
       "      <td>uhg time to get my second vaccine i hope i don...</td>\n",
       "    </tr>\n",
       "    <tr>\n",
       "      <th>1</th>\n",
       "      <td>1</td>\n",
       "      <td>New censorship! Twitter says it may be mislead...</td>\n",
       "    </tr>\n",
       "    <tr>\n",
       "      <th>2</th>\n",
       "      <td>1</td>\n",
       "      <td>If you’ve had a COVID- vaccine, it’s thanks in...</td>\n",
       "    </tr>\n",
       "    <tr>\n",
       "      <th>3</th>\n",
       "      <td>0</td>\n",
       "      <td>Got my second vaccine. Can't wait to still wea...</td>\n",
       "    </tr>\n",
       "    <tr>\n",
       "      <th>4</th>\n",
       "      <td>0</td>\n",
       "      <td>Post-second vaccine symptoms description: like...</td>\n",
       "    </tr>\n",
       "    <tr>\n",
       "      <th>...</th>\n",
       "      <td>...</td>\n",
       "      <td>...</td>\n",
       "    </tr>\n",
       "    <tr>\n",
       "      <th>12746</th>\n",
       "      <td>0</td>\n",
       "      <td>yay mak getting vaccine todayy</td>\n",
       "    </tr>\n",
       "    <tr>\n",
       "      <th>12747</th>\n",
       "      <td>0</td>\n",
       "      <td>I had the incredible privilege of receiving th...</td>\n",
       "    </tr>\n",
       "    <tr>\n",
       "      <th>12748</th>\n",
       "      <td>0</td>\n",
       "      <td>Got my first dose of vaccine   \\n#vaccinated #...</td>\n",
       "    </tr>\n",
       "    <tr>\n",
       "      <th>12749</th>\n",
       "      <td>1</td>\n",
       "      <td>We still have no long term evidence of impact ...</td>\n",
       "    </tr>\n",
       "    <tr>\n",
       "      <th>12750</th>\n",
       "      <td>0</td>\n",
       "      <td>gonna get my first jab of the vaccine on satur...</td>\n",
       "    </tr>\n",
       "  </tbody>\n",
       "</table>\n",
       "<p>12751 rows × 2 columns</p>\n",
       "</div>"
      ],
      "text/plain": [
       "       is_misinfo                                       text content\n",
       "0               0  uhg time to get my second vaccine i hope i don...\n",
       "1               1  New censorship! Twitter says it may be mislead...\n",
       "2               1  If you’ve had a COVID- vaccine, it’s thanks in...\n",
       "3               0  Got my second vaccine. Can't wait to still wea...\n",
       "4               0  Post-second vaccine symptoms description: like...\n",
       "...           ...                                                ...\n",
       "12746           0                  yay mak getting vaccine todayy   \n",
       "12747           0  I had the incredible privilege of receiving th...\n",
       "12748           0  Got my first dose of vaccine   \\n#vaccinated #...\n",
       "12749           1  We still have no long term evidence of impact ...\n",
       "12750           0  gonna get my first jab of the vaccine on satur...\n",
       "\n",
       "[12751 rows x 2 columns]"
      ]
     },
     "execution_count": 9,
     "metadata": {},
     "output_type": "execute_result"
    }
   ],
   "source": [
    "df = pd.read_csv(\"C:/Users/Kelvin/Desktop/Assignment/2022Spring/BIA660/all_tweet.csv\")\n",
    "df"
   ]
  },
  {
   "cell_type": "code",
   "execution_count": 10,
   "id": "c3285b10",
   "metadata": {},
   "outputs": [
    {
     "data": {
      "text/html": [
       "<div>\n",
       "<style scoped>\n",
       "    .dataframe tbody tr th:only-of-type {\n",
       "        vertical-align: middle;\n",
       "    }\n",
       "\n",
       "    .dataframe tbody tr th {\n",
       "        vertical-align: top;\n",
       "    }\n",
       "\n",
       "    .dataframe thead th {\n",
       "        text-align: right;\n",
       "    }\n",
       "</style>\n",
       "<table border=\"1\" class=\"dataframe\">\n",
       "  <thead>\n",
       "    <tr style=\"text-align: right;\">\n",
       "      <th></th>\n",
       "      <th>is_misinfo</th>\n",
       "      <th>text content</th>\n",
       "      <th>number</th>\n",
       "    </tr>\n",
       "  </thead>\n",
       "  <tbody>\n",
       "    <tr>\n",
       "      <th>0</th>\n",
       "      <td>0</td>\n",
       "      <td>uhg time to get my second vaccine i hope i don...</td>\n",
       "      <td>0</td>\n",
       "    </tr>\n",
       "    <tr>\n",
       "      <th>1</th>\n",
       "      <td>1</td>\n",
       "      <td>New censorship! Twitter says it may be mislead...</td>\n",
       "      <td>0</td>\n",
       "    </tr>\n",
       "    <tr>\n",
       "      <th>2</th>\n",
       "      <td>1</td>\n",
       "      <td>If you’ve had a COVID- vaccine, it’s thanks in...</td>\n",
       "      <td>0</td>\n",
       "    </tr>\n",
       "    <tr>\n",
       "      <th>3</th>\n",
       "      <td>0</td>\n",
       "      <td>Got my second vaccine. Can't wait to still wea...</td>\n",
       "      <td>0</td>\n",
       "    </tr>\n",
       "    <tr>\n",
       "      <th>4</th>\n",
       "      <td>0</td>\n",
       "      <td>Post-second vaccine symptoms description: like...</td>\n",
       "      <td>0</td>\n",
       "    </tr>\n",
       "    <tr>\n",
       "      <th>...</th>\n",
       "      <td>...</td>\n",
       "      <td>...</td>\n",
       "      <td>...</td>\n",
       "    </tr>\n",
       "    <tr>\n",
       "      <th>12746</th>\n",
       "      <td>0</td>\n",
       "      <td>yay mak getting vaccine todayy</td>\n",
       "      <td>0</td>\n",
       "    </tr>\n",
       "    <tr>\n",
       "      <th>12747</th>\n",
       "      <td>0</td>\n",
       "      <td>I had the incredible privilege of receiving th...</td>\n",
       "      <td>0</td>\n",
       "    </tr>\n",
       "    <tr>\n",
       "      <th>12748</th>\n",
       "      <td>0</td>\n",
       "      <td>Got my first dose of vaccine   \\n#vaccinated #...</td>\n",
       "      <td>0</td>\n",
       "    </tr>\n",
       "    <tr>\n",
       "      <th>12749</th>\n",
       "      <td>1</td>\n",
       "      <td>We still have no long term evidence of impact ...</td>\n",
       "      <td>0</td>\n",
       "    </tr>\n",
       "    <tr>\n",
       "      <th>12750</th>\n",
       "      <td>0</td>\n",
       "      <td>gonna get my first jab of the vaccine on satur...</td>\n",
       "      <td>0</td>\n",
       "    </tr>\n",
       "  </tbody>\n",
       "</table>\n",
       "<p>12751 rows × 3 columns</p>\n",
       "</div>"
      ],
      "text/plain": [
       "       is_misinfo                                       text content  number\n",
       "0               0  uhg time to get my second vaccine i hope i don...       0\n",
       "1               1  New censorship! Twitter says it may be mislead...       0\n",
       "2               1  If you’ve had a COVID- vaccine, it’s thanks in...       0\n",
       "3               0  Got my second vaccine. Can't wait to still wea...       0\n",
       "4               0  Post-second vaccine symptoms description: like...       0\n",
       "...           ...                                                ...     ...\n",
       "12746           0                  yay mak getting vaccine todayy          0\n",
       "12747           0  I had the incredible privilege of receiving th...       0\n",
       "12748           0  Got my first dose of vaccine   \\n#vaccinated #...       0\n",
       "12749           1  We still have no long term evidence of impact ...       0\n",
       "12750           0  gonna get my first jab of the vaccine on satur...       0\n",
       "\n",
       "[12751 rows x 3 columns]"
      ]
     },
     "execution_count": 10,
     "metadata": {},
     "output_type": "execute_result"
    }
   ],
   "source": [
    "df['number'] = 0\n",
    "df"
   ]
  },
  {
   "cell_type": "code",
   "execution_count": 11,
   "id": "812675de",
   "metadata": {},
   "outputs": [],
   "source": [
    "for i in range(len(df)):\n",
    "    df.iloc[i,2] = i"
   ]
  },
  {
   "cell_type": "code",
   "execution_count": 12,
   "id": "946442ca",
   "metadata": {},
   "outputs": [
    {
     "data": {
      "text/html": [
       "<div>\n",
       "<style scoped>\n",
       "    .dataframe tbody tr th:only-of-type {\n",
       "        vertical-align: middle;\n",
       "    }\n",
       "\n",
       "    .dataframe tbody tr th {\n",
       "        vertical-align: top;\n",
       "    }\n",
       "\n",
       "    .dataframe thead th {\n",
       "        text-align: right;\n",
       "    }\n",
       "</style>\n",
       "<table border=\"1\" class=\"dataframe\">\n",
       "  <thead>\n",
       "    <tr style=\"text-align: right;\">\n",
       "      <th></th>\n",
       "      <th>is_misinfo</th>\n",
       "      <th>text content</th>\n",
       "      <th>number</th>\n",
       "    </tr>\n",
       "  </thead>\n",
       "  <tbody>\n",
       "    <tr>\n",
       "      <th>0</th>\n",
       "      <td>0</td>\n",
       "      <td>uhg time to get my second vaccine i hope i don...</td>\n",
       "      <td>0</td>\n",
       "    </tr>\n",
       "    <tr>\n",
       "      <th>1</th>\n",
       "      <td>1</td>\n",
       "      <td>New censorship! Twitter says it may be mislead...</td>\n",
       "      <td>1</td>\n",
       "    </tr>\n",
       "    <tr>\n",
       "      <th>2</th>\n",
       "      <td>1</td>\n",
       "      <td>If you’ve had a COVID- vaccine, it’s thanks in...</td>\n",
       "      <td>2</td>\n",
       "    </tr>\n",
       "    <tr>\n",
       "      <th>3</th>\n",
       "      <td>0</td>\n",
       "      <td>Got my second vaccine. Can't wait to still wea...</td>\n",
       "      <td>3</td>\n",
       "    </tr>\n",
       "    <tr>\n",
       "      <th>4</th>\n",
       "      <td>0</td>\n",
       "      <td>Post-second vaccine symptoms description: like...</td>\n",
       "      <td>4</td>\n",
       "    </tr>\n",
       "    <tr>\n",
       "      <th>...</th>\n",
       "      <td>...</td>\n",
       "      <td>...</td>\n",
       "      <td>...</td>\n",
       "    </tr>\n",
       "    <tr>\n",
       "      <th>12746</th>\n",
       "      <td>0</td>\n",
       "      <td>yay mak getting vaccine todayy</td>\n",
       "      <td>12746</td>\n",
       "    </tr>\n",
       "    <tr>\n",
       "      <th>12747</th>\n",
       "      <td>0</td>\n",
       "      <td>I had the incredible privilege of receiving th...</td>\n",
       "      <td>12747</td>\n",
       "    </tr>\n",
       "    <tr>\n",
       "      <th>12748</th>\n",
       "      <td>0</td>\n",
       "      <td>Got my first dose of vaccine   \\n#vaccinated #...</td>\n",
       "      <td>12748</td>\n",
       "    </tr>\n",
       "    <tr>\n",
       "      <th>12749</th>\n",
       "      <td>1</td>\n",
       "      <td>We still have no long term evidence of impact ...</td>\n",
       "      <td>12749</td>\n",
       "    </tr>\n",
       "    <tr>\n",
       "      <th>12750</th>\n",
       "      <td>0</td>\n",
       "      <td>gonna get my first jab of the vaccine on satur...</td>\n",
       "      <td>12750</td>\n",
       "    </tr>\n",
       "  </tbody>\n",
       "</table>\n",
       "<p>12751 rows × 3 columns</p>\n",
       "</div>"
      ],
      "text/plain": [
       "       is_misinfo                                       text content  number\n",
       "0               0  uhg time to get my second vaccine i hope i don...       0\n",
       "1               1  New censorship! Twitter says it may be mislead...       1\n",
       "2               1  If you’ve had a COVID- vaccine, it’s thanks in...       2\n",
       "3               0  Got my second vaccine. Can't wait to still wea...       3\n",
       "4               0  Post-second vaccine symptoms description: like...       4\n",
       "...           ...                                                ...     ...\n",
       "12746           0                  yay mak getting vaccine todayy      12746\n",
       "12747           0  I had the incredible privilege of receiving th...   12747\n",
       "12748           0  Got my first dose of vaccine   \\n#vaccinated #...   12748\n",
       "12749           1  We still have no long term evidence of impact ...   12749\n",
       "12750           0  gonna get my first jab of the vaccine on satur...   12750\n",
       "\n",
       "[12751 rows x 3 columns]"
      ]
     },
     "execution_count": 12,
     "metadata": {},
     "output_type": "execute_result"
    }
   ],
   "source": [
    "df"
   ]
  },
  {
   "cell_type": "code",
   "execution_count": 13,
   "id": "fb8fb01b",
   "metadata": {},
   "outputs": [
    {
     "data": {
      "text/html": [
       "<div>\n",
       "<style scoped>\n",
       "    .dataframe tbody tr th:only-of-type {\n",
       "        vertical-align: middle;\n",
       "    }\n",
       "\n",
       "    .dataframe tbody tr th {\n",
       "        vertical-align: top;\n",
       "    }\n",
       "\n",
       "    .dataframe thead th {\n",
       "        text-align: right;\n",
       "    }\n",
       "</style>\n",
       "<table border=\"1\" class=\"dataframe\">\n",
       "  <thead>\n",
       "    <tr style=\"text-align: right;\">\n",
       "      <th></th>\n",
       "      <th>is_misinfo</th>\n",
       "      <th>text content</th>\n",
       "      <th>number</th>\n",
       "      <th>word_count</th>\n",
       "    </tr>\n",
       "  </thead>\n",
       "  <tbody>\n",
       "    <tr>\n",
       "      <th>0</th>\n",
       "      <td>0</td>\n",
       "      <td>uhg time to get my second vaccine i hope i don...</td>\n",
       "      <td>0</td>\n",
       "      <td>{'uhg': 2, 'time': 1, 'to': 2, 'get': 1, 'my':...</td>\n",
       "    </tr>\n",
       "    <tr>\n",
       "      <th>1</th>\n",
       "      <td>1</td>\n",
       "      <td>New censorship! Twitter says it may be mislead...</td>\n",
       "      <td>1</td>\n",
       "      <td>{'New': 1, 'censorship!': 1, 'Twitter': 1, 'sa...</td>\n",
       "    </tr>\n",
       "    <tr>\n",
       "      <th>2</th>\n",
       "      <td>1</td>\n",
       "      <td>If you’ve had a COVID- vaccine, it’s thanks in...</td>\n",
       "      <td>2</td>\n",
       "      <td>{'If': 1, 'you’ve': 1, 'had': 1, 'a': 1, 'COVI...</td>\n",
       "    </tr>\n",
       "    <tr>\n",
       "      <th>3</th>\n",
       "      <td>0</td>\n",
       "      <td>Got my second vaccine. Can't wait to still wea...</td>\n",
       "      <td>3</td>\n",
       "      <td>{'Got': 1, 'my': 1, 'second': 1, 'vaccine.': 1...</td>\n",
       "    </tr>\n",
       "    <tr>\n",
       "      <th>4</th>\n",
       "      <td>0</td>\n",
       "      <td>Post-second vaccine symptoms description: like...</td>\n",
       "      <td>4</td>\n",
       "      <td>{'Post-second': 1, 'vaccine': 1, 'symptoms': 1...</td>\n",
       "    </tr>\n",
       "  </tbody>\n",
       "</table>\n",
       "</div>"
      ],
      "text/plain": [
       "   is_misinfo                                       text content  number  \\\n",
       "0           0  uhg time to get my second vaccine i hope i don...       0   \n",
       "1           1  New censorship! Twitter says it may be mislead...       1   \n",
       "2           1  If you’ve had a COVID- vaccine, it’s thanks in...       2   \n",
       "3           0  Got my second vaccine. Can't wait to still wea...       3   \n",
       "4           0  Post-second vaccine symptoms description: like...       4   \n",
       "\n",
       "                                          word_count  \n",
       "0  {'uhg': 2, 'time': 1, 'to': 2, 'get': 1, 'my':...  \n",
       "1  {'New': 1, 'censorship!': 1, 'Twitter': 1, 'sa...  \n",
       "2  {'If': 1, 'you’ve': 1, 'had': 1, 'a': 1, 'COVI...  \n",
       "3  {'Got': 1, 'my': 1, 'second': 1, 'vaccine.': 1...  \n",
       "4  {'Post-second': 1, 'vaccine': 1, 'symptoms': 1...  "
      ]
     },
     "execution_count": 13,
     "metadata": {},
     "output_type": "execute_result"
    }
   ],
   "source": [
    "from collections import Counter\n",
    "freq_count = []\n",
    "for item in df['text content']:\n",
    "    count = Counter(str(item).split())\n",
    "    freq_count.append(count)\n",
    "df['word_count'] = freq_count\n",
    "df.head()"
   ]
  },
  {
   "cell_type": "code",
   "execution_count": 14,
   "id": "3db7f871",
   "metadata": {},
   "outputs": [
    {
     "data": {
      "text/plain": [
       "'!\"#$%&\\'()*+,-./:;<=>?@[\\\\]^_`{|}~'"
      ]
     },
     "execution_count": 14,
     "metadata": {},
     "output_type": "execute_result"
    }
   ],
   "source": [
    "import string\n",
    "string.punctuation\n",
    "def message_cleaning(message):\n",
    "    Test_punc_removed = [char for char in message if char not in string.punctuation]\n",
    "    Test_punc_removed_join =''.join(Test_punc_removed)\n",
    "    Test_punc_removed_join_clean = [word for word in Test_punc_removed_join.split() if word.lower() not in stopwords.words('english')]\n",
    "    return Test_punc_removed_join_clean"
   ]
  },
  {
   "cell_type": "code",
   "execution_count": 15,
   "id": "7b42d4d1",
   "metadata": {},
   "outputs": [],
   "source": [
    "def preprocess_text(text):\n",
    "    text = remove_numbers(text)\n",
    "    text = remove_http(text)\n",
    "    text = remove_punctuation(text)\n",
    "    text = convert_to_lower(text)\n",
    "    text = remove_white_space(text)\n",
    "    text = remove_short_words(text)\n",
    "    tokens = toknizing(text)\n",
    "    # 2. POS tagging\n",
    "    pos_map = {'J': 'a', 'N': 'n', 'R': 'r', 'V': 'v'}\n",
    "    pos_tags_list = pos_tag(tokens)\n",
    "    # print(pos_tags)\n",
    "    lemmatiser = WordNetLemmatizer()\n",
    "    tokens = [lemmatiser.lemmatize(w.lower(), \n",
    "                                   pos=pos_map.get(p[0], 'v')) \n",
    "              for w, p in pos_tags_list]\n",
    "    return tokens\n",
    "def convert_to_lower(text):\n",
    "    return text.lower()\n",
    "def remove_numbers(text):\n",
    "    text = re.sub(r'\\d+' , '', text)\n",
    "    return text\n",
    "def remove_http(text):\n",
    "    text = re.sub(\"https?:\\/\\/t.co\\/[A-Za-z0-9]*\", ' ', text)\n",
    "    return text\n",
    "def remove_short_words(text):\n",
    "    text = re.sub(r'\\b\\w{1,2}\\b', '', text)\n",
    "    return text\n",
    "def remove_punctuation(text):\n",
    "    punctuations = '''!()[]{};«№»:'\"\\,`<>./?@=#$-(%^)+&[*_]~'''\n",
    "    no_punct = \"\"\n",
    "     \n",
    "    for char in text:\n",
    "        if char not in punctuations:\n",
    "            no_punct = no_punct + char\n",
    "    return no_punct\n",
    "def remove_white_space(text):\n",
    "    text = text.strip()\n",
    "    return text\n",
    "def toknizing(text):\n",
    "#     stp = my_stopwords\n",
    "#     stops = set(stopwords.words('english'))\n",
    "    stop_words = set('english')\n",
    "    tokens = word_tokenize(text)\n",
    "    result = [i for i in tokens if not i in stop_words]\n",
    "    return result"
   ]
  },
  {
   "cell_type": "code",
   "execution_count": 16,
   "id": "e1a1f16a",
   "metadata": {},
   "outputs": [],
   "source": [
    "df['text content'] = df['text content'].apply(preprocess_text)"
   ]
  },
  {
   "cell_type": "code",
   "execution_count": 17,
   "id": "195d6a67",
   "metadata": {
    "scrolled": true
   },
   "outputs": [
    {
     "data": {
      "text/html": [
       "<div>\n",
       "<style scoped>\n",
       "    .dataframe tbody tr th:only-of-type {\n",
       "        vertical-align: middle;\n",
       "    }\n",
       "\n",
       "    .dataframe tbody tr th {\n",
       "        vertical-align: top;\n",
       "    }\n",
       "\n",
       "    .dataframe thead th {\n",
       "        text-align: right;\n",
       "    }\n",
       "</style>\n",
       "<table border=\"1\" class=\"dataframe\">\n",
       "  <thead>\n",
       "    <tr style=\"text-align: right;\">\n",
       "      <th></th>\n",
       "      <th>is_misinfo</th>\n",
       "      <th>text content</th>\n",
       "      <th>number</th>\n",
       "      <th>word_count</th>\n",
       "    </tr>\n",
       "  </thead>\n",
       "  <tbody>\n",
       "    <tr>\n",
       "      <th>0</th>\n",
       "      <td>0</td>\n",
       "      <td>[uhg, time, get, second, vaccine, hope, don, ’...</td>\n",
       "      <td>0</td>\n",
       "      <td>{'uhg': 2, 'time': 1, 'to': 2, 'get': 1, 'my':...</td>\n",
       "    </tr>\n",
       "    <tr>\n",
       "      <th>1</th>\n",
       "      <td>1</td>\n",
       "      <td>[new, censorship, twitter, say, may, mislead, ...</td>\n",
       "      <td>1</td>\n",
       "      <td>{'New': 1, 'censorship!': 1, 'Twitter': 1, 'sa...</td>\n",
       "    </tr>\n",
       "    <tr>\n",
       "      <th>2</th>\n",
       "      <td>1</td>\n",
       "      <td>[you, ’, have, covid, vaccine, ’, thanks, part...</td>\n",
       "      <td>2</td>\n",
       "      <td>{'If': 1, 'you’ve': 1, 'had': 1, 'a': 1, 'COVI...</td>\n",
       "    </tr>\n",
       "    <tr>\n",
       "      <th>3</th>\n",
       "      <td>0</td>\n",
       "      <td>[get, second, vaccine, cant, wait, still, wear...</td>\n",
       "      <td>3</td>\n",
       "      <td>{'Got': 1, 'my': 1, 'second': 1, 'vaccine.': 1...</td>\n",
       "    </tr>\n",
       "    <tr>\n",
       "      <th>4</th>\n",
       "      <td>0</td>\n",
       "      <td>[postsecond, vaccine, symptom, description, li...</td>\n",
       "      <td>4</td>\n",
       "      <td>{'Post-second': 1, 'vaccine': 1, 'symptoms': 1...</td>\n",
       "    </tr>\n",
       "    <tr>\n",
       "      <th>...</th>\n",
       "      <td>...</td>\n",
       "      <td>...</td>\n",
       "      <td>...</td>\n",
       "      <td>...</td>\n",
       "    </tr>\n",
       "    <tr>\n",
       "      <th>12746</th>\n",
       "      <td>0</td>\n",
       "      <td>[yay, mak, get, vaccine, todayy]</td>\n",
       "      <td>12746</td>\n",
       "      <td>{'yay': 1, 'mak': 1, 'getting': 1, 'vaccine': ...</td>\n",
       "    </tr>\n",
       "    <tr>\n",
       "      <th>12747</th>\n",
       "      <td>0</td>\n",
       "      <td>[have, the, incredible, privilege, receive, th...</td>\n",
       "      <td>12747</td>\n",
       "      <td>{'I': 1, 'had': 1, 'the': 2, 'incredible': 1, ...</td>\n",
       "    </tr>\n",
       "    <tr>\n",
       "      <th>12748</th>\n",
       "      <td>0</td>\n",
       "      <td>[get, first, dose, vaccine, vaccinate, nftartist]</td>\n",
       "      <td>12748</td>\n",
       "      <td>{'Got': 1, 'my': 1, 'first': 1, 'dose': 1, 'of...</td>\n",
       "    </tr>\n",
       "    <tr>\n",
       "      <th>12749</th>\n",
       "      <td>1</td>\n",
       "      <td>[still, have, long, term, evidence, impact, th...</td>\n",
       "      <td>12749</td>\n",
       "      <td>{'We': 1, 'still': 1, 'have': 1, 'no': 1, 'lon...</td>\n",
       "    </tr>\n",
       "    <tr>\n",
       "      <th>12750</th>\n",
       "      <td>0</td>\n",
       "      <td>[gon, na, get, first, jab, the, vaccine, satur...</td>\n",
       "      <td>12750</td>\n",
       "      <td>{'gonna': 1, 'get': 1, 'my': 1, 'first': 1, 'j...</td>\n",
       "    </tr>\n",
       "  </tbody>\n",
       "</table>\n",
       "<p>12751 rows × 4 columns</p>\n",
       "</div>"
      ],
      "text/plain": [
       "       is_misinfo                                       text content  number  \\\n",
       "0               0  [uhg, time, get, second, vaccine, hope, don, ’...       0   \n",
       "1               1  [new, censorship, twitter, say, may, mislead, ...       1   \n",
       "2               1  [you, ’, have, covid, vaccine, ’, thanks, part...       2   \n",
       "3               0  [get, second, vaccine, cant, wait, still, wear...       3   \n",
       "4               0  [postsecond, vaccine, symptom, description, li...       4   \n",
       "...           ...                                                ...     ...   \n",
       "12746           0                   [yay, mak, get, vaccine, todayy]   12746   \n",
       "12747           0  [have, the, incredible, privilege, receive, th...   12747   \n",
       "12748           0  [get, first, dose, vaccine, vaccinate, nftartist]   12748   \n",
       "12749           1  [still, have, long, term, evidence, impact, th...   12749   \n",
       "12750           0  [gon, na, get, first, jab, the, vaccine, satur...   12750   \n",
       "\n",
       "                                              word_count  \n",
       "0      {'uhg': 2, 'time': 1, 'to': 2, 'get': 1, 'my':...  \n",
       "1      {'New': 1, 'censorship!': 1, 'Twitter': 1, 'sa...  \n",
       "2      {'If': 1, 'you’ve': 1, 'had': 1, 'a': 1, 'COVI...  \n",
       "3      {'Got': 1, 'my': 1, 'second': 1, 'vaccine.': 1...  \n",
       "4      {'Post-second': 1, 'vaccine': 1, 'symptoms': 1...  \n",
       "...                                                  ...  \n",
       "12746  {'yay': 1, 'mak': 1, 'getting': 1, 'vaccine': ...  \n",
       "12747  {'I': 1, 'had': 1, 'the': 2, 'incredible': 1, ...  \n",
       "12748  {'Got': 1, 'my': 1, 'first': 1, 'dose': 1, 'of...  \n",
       "12749  {'We': 1, 'still': 1, 'have': 1, 'no': 1, 'lon...  \n",
       "12750  {'gonna': 1, 'get': 1, 'my': 1, 'first': 1, 'j...  \n",
       "\n",
       "[12751 rows x 4 columns]"
      ]
     },
     "execution_count": 17,
     "metadata": {},
     "output_type": "execute_result"
    }
   ],
   "source": [
    "df"
   ]
  },
  {
   "cell_type": "code",
   "execution_count": 18,
   "id": "8993ea44",
   "metadata": {},
   "outputs": [],
   "source": [
    "D = df\n",
    "for i in range(len(D)):\n",
    "    D.iloc[i,1] = ','.join(str(i) for i in D.iloc[i,1])\n"
   ]
  },
  {
   "cell_type": "code",
   "execution_count": 19,
   "id": "4b6054ec",
   "metadata": {},
   "outputs": [
    {
     "data": {
      "text/html": [
       "<div>\n",
       "<style scoped>\n",
       "    .dataframe tbody tr th:only-of-type {\n",
       "        vertical-align: middle;\n",
       "    }\n",
       "\n",
       "    .dataframe tbody tr th {\n",
       "        vertical-align: top;\n",
       "    }\n",
       "\n",
       "    .dataframe thead th {\n",
       "        text-align: right;\n",
       "    }\n",
       "</style>\n",
       "<table border=\"1\" class=\"dataframe\">\n",
       "  <thead>\n",
       "    <tr style=\"text-align: right;\">\n",
       "      <th></th>\n",
       "      <th>is_misinfo</th>\n",
       "      <th>text content</th>\n",
       "      <th>number</th>\n",
       "      <th>word_count</th>\n",
       "    </tr>\n",
       "  </thead>\n",
       "  <tbody>\n",
       "    <tr>\n",
       "      <th>0</th>\n",
       "      <td>0</td>\n",
       "      <td>uhg,time,get,second,vaccine,hope,don,’,die,lik...</td>\n",
       "      <td>0</td>\n",
       "      <td>{'uhg': 2, 'time': 1, 'to': 2, 'get': 1, 'my':...</td>\n",
       "    </tr>\n",
       "    <tr>\n",
       "      <th>1</th>\n",
       "      <td>1</td>\n",
       "      <td>new,censorship,twitter,say,may,mislead,say,’,g...</td>\n",
       "      <td>1</td>\n",
       "      <td>{'New': 1, 'censorship!': 1, 'Twitter': 1, 'sa...</td>\n",
       "    </tr>\n",
       "    <tr>\n",
       "      <th>2</th>\n",
       "      <td>1</td>\n",
       "      <td>you,’,have,covid,vaccine,’,thanks,part,cell,ge...</td>\n",
       "      <td>2</td>\n",
       "      <td>{'If': 1, 'you’ve': 1, 'had': 1, 'a': 1, 'COVI...</td>\n",
       "    </tr>\n",
       "    <tr>\n",
       "      <th>3</th>\n",
       "      <td>0</td>\n",
       "      <td>get,second,vaccine,cant,wait,still,wear,mask,o...</td>\n",
       "      <td>3</td>\n",
       "      <td>{'Got': 1, 'my': 1, 'second': 1, 'vaccine.': 1...</td>\n",
       "    </tr>\n",
       "    <tr>\n",
       "      <th>4</th>\n",
       "      <td>0</td>\n",
       "      <td>postsecond,vaccine,symptom,description,like,mi...</td>\n",
       "      <td>4</td>\n",
       "      <td>{'Post-second': 1, 'vaccine': 1, 'symptoms': 1...</td>\n",
       "    </tr>\n",
       "    <tr>\n",
       "      <th>...</th>\n",
       "      <td>...</td>\n",
       "      <td>...</td>\n",
       "      <td>...</td>\n",
       "      <td>...</td>\n",
       "    </tr>\n",
       "    <tr>\n",
       "      <th>12746</th>\n",
       "      <td>0</td>\n",
       "      <td>yay,mak,get,vaccine,todayy</td>\n",
       "      <td>12746</td>\n",
       "      <td>{'yay': 1, 'mak': 1, 'getting': 1, 'vaccine': ...</td>\n",
       "    </tr>\n",
       "    <tr>\n",
       "      <th>12747</th>\n",
       "      <td>0</td>\n",
       "      <td>have,the,incredible,privilege,receive,the,covi...</td>\n",
       "      <td>12747</td>\n",
       "      <td>{'I': 1, 'had': 1, 'the': 2, 'incredible': 1, ...</td>\n",
       "    </tr>\n",
       "    <tr>\n",
       "      <th>12748</th>\n",
       "      <td>0</td>\n",
       "      <td>get,first,dose,vaccine,vaccinate,nftartist</td>\n",
       "      <td>12748</td>\n",
       "      <td>{'Got': 1, 'my': 1, 'first': 1, 'dose': 1, 'of...</td>\n",
       "    </tr>\n",
       "    <tr>\n",
       "      <th>12749</th>\n",
       "      <td>1</td>\n",
       "      <td>still,have,long,term,evidence,impact,the,vacci...</td>\n",
       "      <td>12749</td>\n",
       "      <td>{'We': 1, 'still': 1, 'have': 1, 'no': 1, 'lon...</td>\n",
       "    </tr>\n",
       "    <tr>\n",
       "      <th>12750</th>\n",
       "      <td>0</td>\n",
       "      <td>gon,na,get,first,jab,the,vaccine,saturday,exci...</td>\n",
       "      <td>12750</td>\n",
       "      <td>{'gonna': 1, 'get': 1, 'my': 1, 'first': 1, 'j...</td>\n",
       "    </tr>\n",
       "  </tbody>\n",
       "</table>\n",
       "<p>12751 rows × 4 columns</p>\n",
       "</div>"
      ],
      "text/plain": [
       "       is_misinfo                                       text content  number  \\\n",
       "0               0  uhg,time,get,second,vaccine,hope,don,’,die,lik...       0   \n",
       "1               1  new,censorship,twitter,say,may,mislead,say,’,g...       1   \n",
       "2               1  you,’,have,covid,vaccine,’,thanks,part,cell,ge...       2   \n",
       "3               0  get,second,vaccine,cant,wait,still,wear,mask,o...       3   \n",
       "4               0  postsecond,vaccine,symptom,description,like,mi...       4   \n",
       "...           ...                                                ...     ...   \n",
       "12746           0                         yay,mak,get,vaccine,todayy   12746   \n",
       "12747           0  have,the,incredible,privilege,receive,the,covi...   12747   \n",
       "12748           0         get,first,dose,vaccine,vaccinate,nftartist   12748   \n",
       "12749           1  still,have,long,term,evidence,impact,the,vacci...   12749   \n",
       "12750           0  gon,na,get,first,jab,the,vaccine,saturday,exci...   12750   \n",
       "\n",
       "                                              word_count  \n",
       "0      {'uhg': 2, 'time': 1, 'to': 2, 'get': 1, 'my':...  \n",
       "1      {'New': 1, 'censorship!': 1, 'Twitter': 1, 'sa...  \n",
       "2      {'If': 1, 'you’ve': 1, 'had': 1, 'a': 1, 'COVI...  \n",
       "3      {'Got': 1, 'my': 1, 'second': 1, 'vaccine.': 1...  \n",
       "4      {'Post-second': 1, 'vaccine': 1, 'symptoms': 1...  \n",
       "...                                                  ...  \n",
       "12746  {'yay': 1, 'mak': 1, 'getting': 1, 'vaccine': ...  \n",
       "12747  {'I': 1, 'had': 1, 'the': 2, 'incredible': 1, ...  \n",
       "12748  {'Got': 1, 'my': 1, 'first': 1, 'dose': 1, 'of...  \n",
       "12749  {'We': 1, 'still': 1, 'have': 1, 'no': 1, 'lon...  \n",
       "12750  {'gonna': 1, 'get': 1, 'my': 1, 'first': 1, 'j...  \n",
       "\n",
       "[12751 rows x 4 columns]"
      ]
     },
     "execution_count": 19,
     "metadata": {},
     "output_type": "execute_result"
    }
   ],
   "source": [
    "D"
   ]
  },
  {
   "cell_type": "markdown",
   "id": "70063ee3",
   "metadata": {},
   "source": [
    "# TF-IDF"
   ]
  },
  {
   "cell_type": "code",
   "execution_count": 20,
   "id": "588412b8",
   "metadata": {},
   "outputs": [
    {
     "data": {
      "text/plain": [
       "<12751x12829 sparse matrix of type '<class 'numpy.float64'>'\n",
       "\twith 154131 stored elements in Compressed Sparse Row format>"
      ]
     },
     "execution_count": 20,
     "metadata": {},
     "output_type": "execute_result"
    }
   ],
   "source": [
    "tfidfVect = TfidfVectorizer()\n",
    "tfidf = tfidfVect.fit_transform(D['text content'])\n",
    "tfidf"
   ]
  },
  {
   "cell_type": "code",
   "execution_count": 21,
   "id": "cf3d1bf2",
   "metadata": {},
   "outputs": [],
   "source": [
    "vectorizer = TfidfVectorizer()\n",
    "features = vectorizer.fit_transform(D['text content'])"
   ]
  },
  {
   "cell_type": "code",
   "execution_count": 312,
   "id": "8a2a19b1",
   "metadata": {},
   "outputs": [
    {
     "name": "stdout",
     "output_type": "stream",
     "text": [
      "  (0, 2770)\t0.14179374575665918\n",
      "  (0, 319)\t0.12859172498138122\n",
      "  (0, 665)\t0.2045500033157487\n",
      "  (0, 2185)\t0.20617641532694586\n",
      "  (0, 4007)\t0.13981637490027957\n",
      "  (0, 438)\t0.08002347881845082\n",
      "  (0, 350)\t0.2700643797663524\n",
      "  (0, 1013)\t0.240513695118134\n",
      "  (0, 10169)\t0.2215573772479058\n",
      "  (0, 12258)\t0.15779321463704787\n",
      "  (0, 6417)\t0.29370678671830786\n",
      "  (0, 3029)\t0.17305037472945925\n",
      "  (0, 3214)\t0.2342178131917412\n",
      "  (0, 5156)\t0.187970139092867\n",
      "  (0, 11918)\t0.04188420417564251\n",
      "  (0, 9828)\t0.1134904246418098\n",
      "  (0, 4495)\t0.07062349562694857\n",
      "  (0, 11255)\t0.16105359844854272\n",
      "  (0, 11609)\t0.6295456794469041\n",
      "  (1, 12424)\t0.18022435601497222\n",
      "  (1, 9609)\t0.2436103870467039\n",
      "  (1, 990)\t0.11921889798587346\n",
      "  (1, 11129)\t0.1652611624178064\n",
      "  (1, 4450)\t0.16331157055933745\n",
      "  (1, 7061)\t0.3824657737633571\n",
      "  :\t:\n",
      "  (12749, 6519)\t0.26149380189277466\n",
      "  (12749, 8307)\t0.29067163422040737\n",
      "  (12749, 11216)\t0.27304081538626673\n",
      "  (12749, 11891)\t0.17065013467485352\n",
      "  (12749, 7644)\t0.15577672887751123\n",
      "  (12749, 11076)\t0.0745396998057554\n",
      "  (12749, 7829)\t0.2028800151651243\n",
      "  (12749, 10584)\t0.22716192990482353\n",
      "  (12749, 4920)\t0.267375484421541\n",
      "  (12749, 11918)\t0.05967167998488887\n",
      "  (12750, 9728)\t0.35525662234291233\n",
      "  (12750, 4360)\t0.38620900759173293\n",
      "  (12750, 4616)\t0.3087765718478868\n",
      "  (12750, 7326)\t0.29864265487385383\n",
      "  (12750, 10061)\t0.27726116987353777\n",
      "  (12750, 3777)\t0.23380220603898855\n",
      "  (12750, 5792)\t0.2502436947105718\n",
      "  (12750, 9693)\t0.3522519263420898\n",
      "  (12750, 11174)\t0.16428173952232256\n",
      "  (12750, 7438)\t0.33106277716129134\n",
      "  (12750, 1539)\t0.197623681236031\n",
      "  (12750, 11076)\t0.08284371635736372\n",
      "  (12750, 4098)\t0.14983998727182332\n",
      "  (12750, 11918)\t0.06631934048725291\n",
      "  (12750, 4495)\t0.11182506018837998\n"
     ]
    }
   ],
   "source": [
    "print(features)"
   ]
  },
  {
   "cell_type": "markdown",
   "id": "7ffd6cea",
   "metadata": {},
   "source": [
    "# KNN"
   ]
  },
  {
   "cell_type": "code",
   "execution_count": 22,
   "id": "112a545c",
   "metadata": {},
   "outputs": [],
   "source": [
    "features_train, features_test, labels_train, labels_test = train_test_split(features, D['is_misinfo'],test_size=0.3, random_state=42)"
   ]
  },
  {
   "cell_type": "code",
   "execution_count": 46,
   "id": "9d8342fb",
   "metadata": {},
   "outputs": [
    {
     "data": {
      "text/plain": [
       "KNeighborsClassifier(n_neighbors=1)"
      ]
     },
     "execution_count": 46,
     "metadata": {},
     "output_type": "execute_result"
    },
    {
     "data": {
      "text/plain": [
       "KNeighborsClassifier(n_neighbors=2)"
      ]
     },
     "execution_count": 46,
     "metadata": {},
     "output_type": "execute_result"
    },
    {
     "data": {
      "text/plain": [
       "KNeighborsClassifier(n_neighbors=3)"
      ]
     },
     "execution_count": 46,
     "metadata": {},
     "output_type": "execute_result"
    },
    {
     "data": {
      "text/plain": [
       "KNeighborsClassifier(n_neighbors=4)"
      ]
     },
     "execution_count": 46,
     "metadata": {},
     "output_type": "execute_result"
    },
    {
     "data": {
      "text/plain": [
       "KNeighborsClassifier()"
      ]
     },
     "execution_count": 46,
     "metadata": {},
     "output_type": "execute_result"
    },
    {
     "data": {
      "text/plain": [
       "KNeighborsClassifier(n_neighbors=6)"
      ]
     },
     "execution_count": 46,
     "metadata": {},
     "output_type": "execute_result"
    },
    {
     "data": {
      "text/plain": [
       "KNeighborsClassifier(n_neighbors=7)"
      ]
     },
     "execution_count": 46,
     "metadata": {},
     "output_type": "execute_result"
    },
    {
     "data": {
      "text/plain": [
       "KNeighborsClassifier(n_neighbors=8)"
      ]
     },
     "execution_count": 46,
     "metadata": {},
     "output_type": "execute_result"
    },
    {
     "data": {
      "text/plain": [
       "KNeighborsClassifier(n_neighbors=9)"
      ]
     },
     "execution_count": 46,
     "metadata": {},
     "output_type": "execute_result"
    },
    {
     "data": {
      "text/plain": [
       "KNeighborsClassifier(n_neighbors=10)"
      ]
     },
     "execution_count": 46,
     "metadata": {},
     "output_type": "execute_result"
    },
    {
     "data": {
      "text/plain": [
       "KNeighborsClassifier(n_neighbors=11)"
      ]
     },
     "execution_count": 46,
     "metadata": {},
     "output_type": "execute_result"
    },
    {
     "data": {
      "text/plain": [
       "KNeighborsClassifier(n_neighbors=12)"
      ]
     },
     "execution_count": 46,
     "metadata": {},
     "output_type": "execute_result"
    },
    {
     "data": {
      "text/plain": [
       "KNeighborsClassifier(n_neighbors=13)"
      ]
     },
     "execution_count": 46,
     "metadata": {},
     "output_type": "execute_result"
    },
    {
     "data": {
      "text/plain": [
       "KNeighborsClassifier(n_neighbors=14)"
      ]
     },
     "execution_count": 46,
     "metadata": {},
     "output_type": "execute_result"
    },
    {
     "data": {
      "text/plain": [
       "KNeighborsClassifier(n_neighbors=15)"
      ]
     },
     "execution_count": 46,
     "metadata": {},
     "output_type": "execute_result"
    },
    {
     "data": {
      "text/plain": [
       "KNeighborsClassifier(n_neighbors=16)"
      ]
     },
     "execution_count": 46,
     "metadata": {},
     "output_type": "execute_result"
    },
    {
     "data": {
      "text/plain": [
       "KNeighborsClassifier(n_neighbors=17)"
      ]
     },
     "execution_count": 46,
     "metadata": {},
     "output_type": "execute_result"
    },
    {
     "data": {
      "text/plain": [
       "KNeighborsClassifier(n_neighbors=18)"
      ]
     },
     "execution_count": 46,
     "metadata": {},
     "output_type": "execute_result"
    },
    {
     "data": {
      "text/plain": [
       "KNeighborsClassifier(n_neighbors=19)"
      ]
     },
     "execution_count": 46,
     "metadata": {},
     "output_type": "execute_result"
    }
   ],
   "source": [
    "pred_scores = []\n",
    "for i in range(1,20):\n",
    "    knc = KNeighborsClassifier(n_neighbors=i)\n",
    "    knc.fit(features_train, labels_train)\n",
    "    pred = knc.predict(features_test)\n",
    "    pred_scores.append(accuracy_score(labels_test,pred))"
   ]
  },
  {
   "cell_type": "code",
   "execution_count": 54,
   "id": "0996e336",
   "metadata": {},
   "outputs": [
    {
     "name": "stdout",
     "output_type": "stream",
     "text": [
      "[0.871144798745426, 0.8421327757449033, 0.8753267119707266, 0.8593831677992682, 0.8842132775744903, 0.8740198640878202, 0.8899634082592787, 0.8761108207004704, 0.8923157344485102, 0.8771562990067956, 0.8878724516466283, 0.8784631468897021, 0.8894406691061161, 0.8815995818086775, 0.8878724516466283, 0.8795086251960271, 0.8849973863042342, 0.880292733925771, 0.8852587558808155]\n"
     ]
    },
    {
     "data": {
      "text/plain": [
       "<AxesSubplot:>"
      ]
     },
     "execution_count": 54,
     "metadata": {},
     "output_type": "execute_result"
    },
    {
     "name": "stdout",
     "output_type": "stream",
     "text": [
      "0.8923157344485102\n",
      "8\n"
     ]
    },
    {
     "data": {
      "image/png": "[encoded data removed]",
      "text/plain": [
       "<Figure size 792x432 with 1 Axes>"
      ]
     },
     "metadata": {
      "needs_background": "light"
     },
     "output_type": "display_data"
    }
   ],
   "source": [
    "print (pred_scores)\n",
    "\n",
    "array = np.array(pred_scores, dtype = int)\n",
    "DF = pd.DataFrame()\n",
    "for i in range(len(pred_scores)):\n",
    "    DF.loc[i,0] = pred_scores[i]\n",
    "# DF['K Values'] = [1,2,3,4,5,6,7,8,9,10,11]\n",
    "# DF['Score']= [0.871144798745426,0.8421327757449033,0.8753267119707266,0.8593831677992682,0.8842132775744903,0.8842132775744903,0.8899634082592787,0.8761108207004704,0.8923157344485102,0.8771562990067956,0.8878724516466283]\n",
    "# plt.xlabel(\"Value of K\")\n",
    "# plt.ylabel(\"predict score\")\n",
    "# x = [i for i in pred_scores.keys()]\n",
    "# y = [i for i in pred_scores.values()]\n",
    "# # print(x)\n",
    "# # print(y)\n",
    "# plt.plot(x, y, label=\"loss\")\n",
    "# plt.legend()\n",
    "DF.plot(figsize=(11,6))\n",
    "a = 0\n",
    "b = 0\n",
    "for i in range(len(DF)):\n",
    "  if   DF.iloc[i,0] > a:\n",
    "    a = DF.iloc[i,0]\n",
    "    b = i\n",
    "print (a)\n",
    "print (b)\n",
    "# DF.plot(x = 'K Values', y = 'Score'] )\n",
    "# plt.ylim([0.9, 1])\n",
    "# plt.show()"
   ]
  },
  {
   "cell_type": "code",
   "execution_count": 207,
   "id": "80f1a6e4",
   "metadata": {},
   "outputs": [
    {
     "data": {
      "text/html": [
       "<div>\n",
       "<style scoped>\n",
       "    .dataframe tbody tr th:only-of-type {\n",
       "        vertical-align: middle;\n",
       "    }\n",
       "\n",
       "    .dataframe tbody tr th {\n",
       "        vertical-align: top;\n",
       "    }\n",
       "\n",
       "    .dataframe thead th {\n",
       "        text-align: right;\n",
       "    }\n",
       "</style>\n",
       "<table border=\"1\" class=\"dataframe\">\n",
       "  <thead>\n",
       "    <tr style=\"text-align: right;\">\n",
       "      <th></th>\n",
       "      <th>Score</th>\n",
       "      <th>k values</th>\n",
       "    </tr>\n",
       "  </thead>\n",
       "  <tbody>\n",
       "    <tr>\n",
       "      <th>0</th>\n",
       "      <td>0.871145</td>\n",
       "      <td>1</td>\n",
       "    </tr>\n",
       "    <tr>\n",
       "      <th>1</th>\n",
       "      <td>0.842133</td>\n",
       "      <td>2</td>\n",
       "    </tr>\n",
       "    <tr>\n",
       "      <th>2</th>\n",
       "      <td>0.875327</td>\n",
       "      <td>3</td>\n",
       "    </tr>\n",
       "    <tr>\n",
       "      <th>3</th>\n",
       "      <td>0.859383</td>\n",
       "      <td>4</td>\n",
       "    </tr>\n",
       "    <tr>\n",
       "      <th>4</th>\n",
       "      <td>0.884213</td>\n",
       "      <td>5</td>\n",
       "    </tr>\n",
       "    <tr>\n",
       "      <th>5</th>\n",
       "      <td>0.884213</td>\n",
       "      <td>6</td>\n",
       "    </tr>\n",
       "    <tr>\n",
       "      <th>6</th>\n",
       "      <td>0.889963</td>\n",
       "      <td>7</td>\n",
       "    </tr>\n",
       "    <tr>\n",
       "      <th>7</th>\n",
       "      <td>0.876111</td>\n",
       "      <td>8</td>\n",
       "    </tr>\n",
       "    <tr>\n",
       "      <th>8</th>\n",
       "      <td>0.892316</td>\n",
       "      <td>9</td>\n",
       "    </tr>\n",
       "    <tr>\n",
       "      <th>9</th>\n",
       "      <td>0.877156</td>\n",
       "      <td>10</td>\n",
       "    </tr>\n",
       "    <tr>\n",
       "      <th>10</th>\n",
       "      <td>0.887872</td>\n",
       "      <td>11</td>\n",
       "    </tr>\n",
       "  </tbody>\n",
       "</table>\n",
       "</div>"
      ],
      "text/plain": [
       "       Score  k values\n",
       "0   0.871145         1\n",
       "1   0.842133         2\n",
       "2   0.875327         3\n",
       "3   0.859383         4\n",
       "4   0.884213         5\n",
       "5   0.884213         6\n",
       "6   0.889963         7\n",
       "7   0.876111         8\n",
       "8   0.892316         9\n",
       "9   0.877156        10\n",
       "10  0.887872        11"
      ]
     },
     "execution_count": 207,
     "metadata": {},
     "output_type": "execute_result"
    }
   ],
   "source": [
    "# DF['k values'] = 0\n",
    "# for i in range(len(DF)):\n",
    "#     DF.iloc[i,1] = i+1\n",
    "# DF"
   ]
  },
  {
   "cell_type": "code",
   "execution_count": 55,
   "id": "a84c1491",
   "metadata": {},
   "outputs": [
    {
     "data": {
      "text/plain": [
       "KNeighborsClassifier(metric='euclidean', n_neighbors=9)"
      ]
     },
     "execution_count": 55,
     "metadata": {},
     "output_type": "execute_result"
    }
   ],
   "source": [
    "modelGetNew = KNeighborsClassifier(n_neighbors=9,metric='euclidean')\n",
    "modelGetNew.fit(features_train, labels_train)"
   ]
  },
  {
   "cell_type": "code",
   "execution_count": 60,
   "id": "d19d5921",
   "metadata": {},
   "outputs": [],
   "source": [
    "Text_final = dataset1.drop(columns = 'Date', axis = 1)"
   ]
  },
  {
   "cell_type": "code",
   "execution_count": 64,
   "id": "424a7f2e",
   "metadata": {},
   "outputs": [],
   "source": [
    "Text_final['Text'] = Text_final['Text'].apply(preprocess_text)"
   ]
  },
  {
   "cell_type": "code",
   "execution_count": 71,
   "id": "a4c3b40d",
   "metadata": {},
   "outputs": [
    {
     "data": {
      "text/html": [
       "<div>\n",
       "<style scoped>\n",
       "    .dataframe tbody tr th:only-of-type {\n",
       "        vertical-align: middle;\n",
       "    }\n",
       "\n",
       "    .dataframe tbody tr th {\n",
       "        vertical-align: top;\n",
       "    }\n",
       "\n",
       "    .dataframe thead th {\n",
       "        text-align: right;\n",
       "    }\n",
       "</style>\n",
       "<table border=\"1\" class=\"dataframe\">\n",
       "  <thead>\n",
       "    <tr style=\"text-align: right;\">\n",
       "      <th></th>\n",
       "      <th>a</th>\n",
       "    </tr>\n",
       "  </thead>\n",
       "  <tbody>\n",
       "    <tr>\n",
       "      <th>0</th>\n",
       "      <td>those blood pressure medication have have deca...</td>\n",
       "    </tr>\n",
       "    <tr>\n",
       "      <th>1</th>\n",
       "      <td>kettering health doctor work build trust close...</td>\n",
       "    </tr>\n",
       "    <tr>\n",
       "      <th>2</th>\n",
       "      <td>now the time get boost household member covid ...</td>\n",
       "    </tr>\n",
       "    <tr>\n",
       "      <th>3</th>\n",
       "      <td>watch dudu sherarami director public health en...</td>\n",
       "    </tr>\n",
       "    <tr>\n",
       "      <th>4</th>\n",
       "      <td>partnership with the cayuga county health depa...</td>\n",
       "    </tr>\n",
       "    <tr>\n",
       "      <th>...</th>\n",
       "      <td>...</td>\n",
       "    </tr>\n",
       "    <tr>\n",
       "      <th>2998</th>\n",
       "      <td>why miralax laxative the covid vaccine have sp...</td>\n",
       "    </tr>\n",
       "    <tr>\n",
       "      <th>2999</th>\n",
       "      <td>icymi florida republican rep byron donalds joi...</td>\n",
       "    </tr>\n",
       "    <tr>\n",
       "      <th>3000</th>\n",
       "      <td>file this under shit ive be say since hence th...</td>\n",
       "    </tr>\n",
       "    <tr>\n",
       "      <th>3001</th>\n",
       "      <td>the news moderna now have billion sign deal fo...</td>\n",
       "    </tr>\n",
       "    <tr>\n",
       "      <th>3002</th>\n",
       "      <td>injection objection guy hatchard discuss polis...</td>\n",
       "    </tr>\n",
       "  </tbody>\n",
       "</table>\n",
       "<p>3000 rows × 1 columns</p>\n",
       "</div>"
      ],
      "text/plain": [
       "                                                      a\n",
       "0     those blood pressure medication have have deca...\n",
       "1     kettering health doctor work build trust close...\n",
       "2     now the time get boost household member covid ...\n",
       "3     watch dudu sherarami director public health en...\n",
       "4     partnership with the cayuga county health depa...\n",
       "...                                                 ...\n",
       "2998  why miralax laxative the covid vaccine have sp...\n",
       "2999  icymi florida republican rep byron donalds joi...\n",
       "3000  file this under shit ive be say since hence th...\n",
       "3001  the news moderna now have billion sign deal fo...\n",
       "3002  injection objection guy hatchard discuss polis...\n",
       "\n",
       "[3000 rows x 1 columns]"
      ]
     },
     "execution_count": 71,
     "metadata": {},
     "output_type": "execute_result"
    }
   ],
   "source": [
    "a = {\"a\": Text_clean}\n",
    "Text_final = pd.DataFrame(a)\n",
    "Text_final1 = ','.join(str(i) for i in Text_final)\n",
    "\n",
    "for i in range(len(Text_final)):\n",
    "    Text_final.iloc[i,0] = ','.join(str(i) for i in Text_final.iloc[i,0])\n",
    "# array = np.asarray(Text_clean[0])\n",
    "# array\n",
    "\n",
    "Text_final=Text_final.replace('\\,',' ',regex=True)\n",
    "Text_final"
   ]
  },
  {
   "cell_type": "code",
   "execution_count": 72,
   "id": "4ee8c4dc",
   "metadata": {},
   "outputs": [
    {
     "data": {
      "text/html": [
       "<div>\n",
       "<style scoped>\n",
       "    .dataframe tbody tr th:only-of-type {\n",
       "        vertical-align: middle;\n",
       "    }\n",
       "\n",
       "    .dataframe tbody tr th {\n",
       "        vertical-align: top;\n",
       "    }\n",
       "\n",
       "    .dataframe thead th {\n",
       "        text-align: right;\n",
       "    }\n",
       "</style>\n",
       "<table border=\"1\" class=\"dataframe\">\n",
       "  <thead>\n",
       "    <tr style=\"text-align: right;\">\n",
       "      <th></th>\n",
       "      <th>a</th>\n",
       "      <th>Label</th>\n",
       "    </tr>\n",
       "  </thead>\n",
       "  <tbody>\n",
       "    <tr>\n",
       "      <th>0</th>\n",
       "      <td>those blood pressure medication have have deca...</td>\n",
       "      <td>0</td>\n",
       "    </tr>\n",
       "    <tr>\n",
       "      <th>1</th>\n",
       "      <td>kettering health doctor work build trust close...</td>\n",
       "      <td>0</td>\n",
       "    </tr>\n",
       "    <tr>\n",
       "      <th>2</th>\n",
       "      <td>now the time get boost household member covid ...</td>\n",
       "      <td>0</td>\n",
       "    </tr>\n",
       "    <tr>\n",
       "      <th>3</th>\n",
       "      <td>watch dudu sherarami director public health en...</td>\n",
       "      <td>0</td>\n",
       "    </tr>\n",
       "    <tr>\n",
       "      <th>4</th>\n",
       "      <td>partnership with the cayuga county health depa...</td>\n",
       "      <td>0</td>\n",
       "    </tr>\n",
       "    <tr>\n",
       "      <th>...</th>\n",
       "      <td>...</td>\n",
       "      <td>...</td>\n",
       "    </tr>\n",
       "    <tr>\n",
       "      <th>2998</th>\n",
       "      <td>why miralax laxative the covid vaccine have sp...</td>\n",
       "      <td>0</td>\n",
       "    </tr>\n",
       "    <tr>\n",
       "      <th>2999</th>\n",
       "      <td>icymi florida republican rep byron donalds joi...</td>\n",
       "      <td>0</td>\n",
       "    </tr>\n",
       "    <tr>\n",
       "      <th>3000</th>\n",
       "      <td>file this under shit ive be say since hence th...</td>\n",
       "      <td>0</td>\n",
       "    </tr>\n",
       "    <tr>\n",
       "      <th>3001</th>\n",
       "      <td>the news moderna now have billion sign deal fo...</td>\n",
       "      <td>0</td>\n",
       "    </tr>\n",
       "    <tr>\n",
       "      <th>3002</th>\n",
       "      <td>injection objection guy hatchard discuss polis...</td>\n",
       "      <td>0</td>\n",
       "    </tr>\n",
       "  </tbody>\n",
       "</table>\n",
       "<p>3000 rows × 2 columns</p>\n",
       "</div>"
      ],
      "text/plain": [
       "                                                      a  Label\n",
       "0     those blood pressure medication have have deca...      0\n",
       "1     kettering health doctor work build trust close...      0\n",
       "2     now the time get boost household member covid ...      0\n",
       "3     watch dudu sherarami director public health en...      0\n",
       "4     partnership with the cayuga county health depa...      0\n",
       "...                                                 ...    ...\n",
       "2998  why miralax laxative the covid vaccine have sp...      0\n",
       "2999  icymi florida republican rep byron donalds joi...      0\n",
       "3000  file this under shit ive be say since hence th...      0\n",
       "3001  the news moderna now have billion sign deal fo...      0\n",
       "3002  injection objection guy hatchard discuss polis...      0\n",
       "\n",
       "[3000 rows x 2 columns]"
      ]
     },
     "execution_count": 72,
     "metadata": {},
     "output_type": "execute_result"
    }
   ],
   "source": [
    "Text_final['Label'] = 0\n",
    "# Text_final = Text_final.drop(['Lable'],axis = 1)\n",
    "Text_final"
   ]
  },
  {
   "cell_type": "code",
   "execution_count": 73,
   "id": "d145fbed",
   "metadata": {},
   "outputs": [],
   "source": [
    "from sklearn.feature_extraction.text import CountVectorizer\n",
    "for i in range(len(Text_final)):\n",
    " newData = Text_final.iloc[i,0]\n",
    " newData = [newData]\n",
    " count_vect = CountVectorizer()\n",
    " newDataTFIDF = vectorizer.transform(newData)\n",
    " newDataClass=modelGetNew.predict(newDataTFIDF)\n",
    "#  printable={'Text':newData,'label':newDataClass}\n",
    " Text_final.iloc[i,1] = newDataClass\n",
    "#  for title, predicted in zip(newData,newDataClass):\n",
    "#         print(f'{title} => {predicted}') "
   ]
  },
  {
   "cell_type": "code",
   "execution_count": 74,
   "id": "64c24491",
   "metadata": {},
   "outputs": [
    {
     "data": {
      "text/html": [
       "<div>\n",
       "<style scoped>\n",
       "    .dataframe tbody tr th:only-of-type {\n",
       "        vertical-align: middle;\n",
       "    }\n",
       "\n",
       "    .dataframe tbody tr th {\n",
       "        vertical-align: top;\n",
       "    }\n",
       "\n",
       "    .dataframe thead th {\n",
       "        text-align: right;\n",
       "    }\n",
       "</style>\n",
       "<table border=\"1\" class=\"dataframe\">\n",
       "  <thead>\n",
       "    <tr style=\"text-align: right;\">\n",
       "      <th></th>\n",
       "      <th>a</th>\n",
       "      <th>Label</th>\n",
       "    </tr>\n",
       "  </thead>\n",
       "  <tbody>\n",
       "    <tr>\n",
       "      <th>0</th>\n",
       "      <td>those blood pressure medication have have deca...</td>\n",
       "      <td>0</td>\n",
       "    </tr>\n",
       "    <tr>\n",
       "      <th>1</th>\n",
       "      <td>kettering health doctor work build trust close...</td>\n",
       "      <td>0</td>\n",
       "    </tr>\n",
       "    <tr>\n",
       "      <th>2</th>\n",
       "      <td>now the time get boost household member covid ...</td>\n",
       "      <td>0</td>\n",
       "    </tr>\n",
       "    <tr>\n",
       "      <th>3</th>\n",
       "      <td>watch dudu sherarami director public health en...</td>\n",
       "      <td>1</td>\n",
       "    </tr>\n",
       "    <tr>\n",
       "      <th>4</th>\n",
       "      <td>partnership with the cayuga county health depa...</td>\n",
       "      <td>0</td>\n",
       "    </tr>\n",
       "    <tr>\n",
       "      <th>...</th>\n",
       "      <td>...</td>\n",
       "      <td>...</td>\n",
       "    </tr>\n",
       "    <tr>\n",
       "      <th>2998</th>\n",
       "      <td>why miralax laxative the covid vaccine have sp...</td>\n",
       "      <td>0</td>\n",
       "    </tr>\n",
       "    <tr>\n",
       "      <th>2999</th>\n",
       "      <td>icymi florida republican rep byron donalds joi...</td>\n",
       "      <td>0</td>\n",
       "    </tr>\n",
       "    <tr>\n",
       "      <th>3000</th>\n",
       "      <td>file this under shit ive be say since hence th...</td>\n",
       "      <td>1</td>\n",
       "    </tr>\n",
       "    <tr>\n",
       "      <th>3001</th>\n",
       "      <td>the news moderna now have billion sign deal fo...</td>\n",
       "      <td>0</td>\n",
       "    </tr>\n",
       "    <tr>\n",
       "      <th>3002</th>\n",
       "      <td>injection objection guy hatchard discuss polis...</td>\n",
       "      <td>0</td>\n",
       "    </tr>\n",
       "  </tbody>\n",
       "</table>\n",
       "<p>3000 rows × 2 columns</p>\n",
       "</div>"
      ],
      "text/plain": [
       "                                                      a  Label\n",
       "0     those blood pressure medication have have deca...      0\n",
       "1     kettering health doctor work build trust close...      0\n",
       "2     now the time get boost household member covid ...      0\n",
       "3     watch dudu sherarami director public health en...      1\n",
       "4     partnership with the cayuga county health depa...      0\n",
       "...                                                 ...    ...\n",
       "2998  why miralax laxative the covid vaccine have sp...      0\n",
       "2999  icymi florida republican rep byron donalds joi...      0\n",
       "3000  file this under shit ive be say since hence th...      1\n",
       "3001  the news moderna now have billion sign deal fo...      0\n",
       "3002  injection objection guy hatchard discuss polis...      0\n",
       "\n",
       "[3000 rows x 2 columns]"
      ]
     },
     "execution_count": 74,
     "metadata": {},
     "output_type": "execute_result"
    }
   ],
   "source": [
    "Text_final\n",
    "\n",
    "# D1 = df\n",
    "\n",
    "# D1=D1.replace('\\’','',regex=True)\n",
    "# D1=D1.replace(\"\\,\",' ',regex=True)\n",
    "# D1\n",
    "# D1.to_csv(\"C:/Users/Kelvin/Desktop/Assignment/2022Spring/BIA660/Last.csv\",index = False)"
   ]
  },
  {
   "cell_type": "code",
   "execution_count": 259,
   "id": "0463326e",
   "metadata": {},
   "outputs": [
    {
     "data": {
      "text/plain": [
       "0       those blood pressure medication have have deca...\n",
       "1       kettering health doctor work build trust close...\n",
       "2       now the time get boost household member covid ...\n",
       "3       watch dudu sherarami director public health en...\n",
       "4       partnership with the cayuga county health depa...\n",
       "                              ...                        \n",
       "2998    why miralax laxative the covid vaccine have sp...\n",
       "2999    icymi florida republican rep byron donalds joi...\n",
       "3000    file this under shit ive be say since hence th...\n",
       "3001    the news moderna now have billion sign deal fo...\n",
       "3002    injection objection guy hatchard discuss polis...\n",
       "Name: a, Length: 3000, dtype: object"
      ]
     },
     "execution_count": 259,
     "metadata": {},
     "output_type": "execute_result"
    }
   ],
   "source": [
    "# for i in range(len(D1)):\n",
    "#     D1.iloc[i,1]"
   ]
  },
  {
   "cell_type": "code",
   "execution_count": 212,
   "id": "25e3bc65",
   "metadata": {},
   "outputs": [],
   "source": [
    "D1.to_csv(\"C:/Users/Kelvin/Desktop/Assignment/2022Spring/BIA660/Last.csv\",index = False)"
   ]
  },
  {
   "cell_type": "code",
   "execution_count": 76,
   "id": "f9442f08",
   "metadata": {},
   "outputs": [
    {
     "data": {
      "text/html": [
       "<div>\n",
       "<style scoped>\n",
       "    .dataframe tbody tr th:only-of-type {\n",
       "        vertical-align: middle;\n",
       "    }\n",
       "\n",
       "    .dataframe tbody tr th {\n",
       "        vertical-align: top;\n",
       "    }\n",
       "\n",
       "    .dataframe thead th {\n",
       "        text-align: right;\n",
       "    }\n",
       "</style>\n",
       "<table border=\"1\" class=\"dataframe\">\n",
       "  <thead>\n",
       "    <tr style=\"text-align: right;\">\n",
       "      <th></th>\n",
       "      <th>a</th>\n",
       "      <th>Label</th>\n",
       "    </tr>\n",
       "  </thead>\n",
       "  <tbody>\n",
       "    <tr>\n",
       "      <th>0</th>\n",
       "      <td>those blood pressure medication have have deca...</td>\n",
       "      <td>0</td>\n",
       "    </tr>\n",
       "    <tr>\n",
       "      <th>1</th>\n",
       "      <td>kettering health doctor work build trust close...</td>\n",
       "      <td>0</td>\n",
       "    </tr>\n",
       "    <tr>\n",
       "      <th>2</th>\n",
       "      <td>now the time get boost household member covid ...</td>\n",
       "      <td>0</td>\n",
       "    </tr>\n",
       "    <tr>\n",
       "      <th>3</th>\n",
       "      <td>watch dudu sherarami director public health en...</td>\n",
       "      <td>1</td>\n",
       "    </tr>\n",
       "    <tr>\n",
       "      <th>4</th>\n",
       "      <td>partnership with the cayuga county health depa...</td>\n",
       "      <td>0</td>\n",
       "    </tr>\n",
       "    <tr>\n",
       "      <th>...</th>\n",
       "      <td>...</td>\n",
       "      <td>...</td>\n",
       "    </tr>\n",
       "    <tr>\n",
       "      <th>2998</th>\n",
       "      <td>why miralax laxative the covid vaccine have sp...</td>\n",
       "      <td>0</td>\n",
       "    </tr>\n",
       "    <tr>\n",
       "      <th>2999</th>\n",
       "      <td>icymi florida republican rep byron donalds joi...</td>\n",
       "      <td>0</td>\n",
       "    </tr>\n",
       "    <tr>\n",
       "      <th>3000</th>\n",
       "      <td>file this under shit ive be say since hence th...</td>\n",
       "      <td>1</td>\n",
       "    </tr>\n",
       "    <tr>\n",
       "      <th>3001</th>\n",
       "      <td>the news moderna now have billion sign deal fo...</td>\n",
       "      <td>0</td>\n",
       "    </tr>\n",
       "    <tr>\n",
       "      <th>3002</th>\n",
       "      <td>injection objection guy hatchard discuss polis...</td>\n",
       "      <td>0</td>\n",
       "    </tr>\n",
       "  </tbody>\n",
       "</table>\n",
       "<p>3000 rows × 2 columns</p>\n",
       "</div>"
      ],
      "text/plain": [
       "                                                      a  Label\n",
       "0     those blood pressure medication have have deca...      0\n",
       "1     kettering health doctor work build trust close...      0\n",
       "2     now the time get boost household member covid ...      0\n",
       "3     watch dudu sherarami director public health en...      1\n",
       "4     partnership with the cayuga county health depa...      0\n",
       "...                                                 ...    ...\n",
       "2998  why miralax laxative the covid vaccine have sp...      0\n",
       "2999  icymi florida republican rep byron donalds joi...      0\n",
       "3000  file this under shit ive be say since hence th...      1\n",
       "3001  the news moderna now have billion sign deal fo...      0\n",
       "3002  injection objection guy hatchard discuss polis...      0\n",
       "\n",
       "[3000 rows x 2 columns]"
      ]
     },
     "execution_count": 76,
     "metadata": {},
     "output_type": "execute_result"
    }
   ],
   "source": [
    "Text_final"
   ]
  },
  {
   "cell_type": "code",
   "execution_count": 77,
   "id": "77337b51",
   "metadata": {},
   "outputs": [
    {
     "data": {
      "text/plain": [
       "Counter({False: 2183, True: 817})"
      ]
     },
     "execution_count": 77,
     "metadata": {},
     "output_type": "execute_result"
    }
   ],
   "source": [
    "from collections import Counter\n",
    "from numpy import nan\n",
    "a = Counter(Text_final['Label'] == 1)\n",
    "a"
   ]
  },
  {
   "cell_type": "code",
   "execution_count": 78,
   "id": "094beb00",
   "metadata": {},
   "outputs": [
    {
     "data": {
      "image/png": "[encoded data removed]",
      "text/plain": [
       "<Figure size 432x288 with 1 Axes>"
      ]
     },
     "metadata": {
      "needs_background": "light"
     },
     "output_type": "display_data"
    }
   ],
   "source": [
    "import seaborn as sns\n",
    "ax = sns.countplot(x='Label', data=Text_final)"
   ]
  },
  {
   "cell_type": "code",
   "execution_count": 298,
   "id": "afbb75e9",
   "metadata": {},
   "outputs": [
    {
     "data": {
      "text/plain": [
       "12751"
      ]
     },
     "execution_count": 298,
     "metadata": {},
     "output_type": "execute_result"
    },
    {
     "data": {
      "text/plain": [
       "3000"
      ]
     },
     "execution_count": 298,
     "metadata": {},
     "output_type": "execute_result"
    }
   ],
   "source": [
    "len(D1)\n",
    "len(Text_final)\n",
    "Text_final.rename(columns={'a':'text content', 'Label':'is_misinfo'}, inplace = True)"
   ]
  },
  {
   "cell_type": "code",
   "execution_count": 299,
   "id": "27edc1fd",
   "metadata": {},
   "outputs": [
    {
     "data": {
      "text/html": [
       "<div>\n",
       "<style scoped>\n",
       "    .dataframe tbody tr th:only-of-type {\n",
       "        vertical-align: middle;\n",
       "    }\n",
       "\n",
       "    .dataframe tbody tr th {\n",
       "        vertical-align: top;\n",
       "    }\n",
       "\n",
       "    .dataframe thead th {\n",
       "        text-align: right;\n",
       "    }\n",
       "</style>\n",
       "<table border=\"1\" class=\"dataframe\">\n",
       "  <thead>\n",
       "    <tr style=\"text-align: right;\">\n",
       "      <th></th>\n",
       "      <th>is_misinfo</th>\n",
       "      <th>text content</th>\n",
       "    </tr>\n",
       "  </thead>\n",
       "  <tbody>\n",
       "    <tr>\n",
       "      <th>0</th>\n",
       "      <td>0</td>\n",
       "      <td>uhg time to get my second vaccine i hope i don...</td>\n",
       "    </tr>\n",
       "    <tr>\n",
       "      <th>1</th>\n",
       "      <td>1</td>\n",
       "      <td>New censorship! Twitter says it may be mislead...</td>\n",
       "    </tr>\n",
       "    <tr>\n",
       "      <th>2</th>\n",
       "      <td>1</td>\n",
       "      <td>If youve had a COVID- vaccine  its thanks in p...</td>\n",
       "    </tr>\n",
       "    <tr>\n",
       "      <th>3</th>\n",
       "      <td>0</td>\n",
       "      <td>Got my second vaccine. Can't wait to still wea...</td>\n",
       "    </tr>\n",
       "    <tr>\n",
       "      <th>4</th>\n",
       "      <td>0</td>\n",
       "      <td>Post-second vaccine symptoms description: like...</td>\n",
       "    </tr>\n",
       "    <tr>\n",
       "      <th>...</th>\n",
       "      <td>...</td>\n",
       "      <td>...</td>\n",
       "    </tr>\n",
       "    <tr>\n",
       "      <th>2998</th>\n",
       "      <td>0</td>\n",
       "      <td>why miralax laxative the covid vaccine have sp...</td>\n",
       "    </tr>\n",
       "    <tr>\n",
       "      <th>2999</th>\n",
       "      <td>0</td>\n",
       "      <td>icymi florida republican rep byron donalds joi...</td>\n",
       "    </tr>\n",
       "    <tr>\n",
       "      <th>3000</th>\n",
       "      <td>1</td>\n",
       "      <td>file this under shit ive be say since hence th...</td>\n",
       "    </tr>\n",
       "    <tr>\n",
       "      <th>3001</th>\n",
       "      <td>0</td>\n",
       "      <td>the news moderna now have billion sign deal fo...</td>\n",
       "    </tr>\n",
       "    <tr>\n",
       "      <th>3002</th>\n",
       "      <td>0</td>\n",
       "      <td>injection objection guy hatchard discuss polis...</td>\n",
       "    </tr>\n",
       "  </tbody>\n",
       "</table>\n",
       "<p>15751 rows × 2 columns</p>\n",
       "</div>"
      ],
      "text/plain": [
       "      is_misinfo                                       text content\n",
       "0              0  uhg time to get my second vaccine i hope i don...\n",
       "1              1  New censorship! Twitter says it may be mislead...\n",
       "2              1  If youve had a COVID- vaccine  its thanks in p...\n",
       "3              0  Got my second vaccine. Can't wait to still wea...\n",
       "4              0  Post-second vaccine symptoms description: like...\n",
       "...          ...                                                ...\n",
       "2998           0  why miralax laxative the covid vaccine have sp...\n",
       "2999           0  icymi florida republican rep byron donalds joi...\n",
       "3000           1  file this under shit ive be say since hence th...\n",
       "3001           0  the news moderna now have billion sign deal fo...\n",
       "3002           0  injection objection guy hatchard discuss polis...\n",
       "\n",
       "[15751 rows x 2 columns]"
      ]
     },
     "execution_count": 299,
     "metadata": {},
     "output_type": "execute_result"
    }
   ],
   "source": [
    "FINAL = pd.concat([D1, Text_final])\n",
    "FINAL"
   ]
  },
  {
   "cell_type": "code",
   "execution_count": 285,
   "id": "0d2a9b22",
   "metadata": {},
   "outputs": [],
   "source": [
    "x_train = D1['text content']\n",
    "x_test = D1['is_misinfo']\n",
    "y_train = Text_final['a']\n",
    "y_test = Text_final['Label']"
   ]
  },
  {
   "cell_type": "code",
   "execution_count": 300,
   "id": "826548b7",
   "metadata": {},
   "outputs": [],
   "source": [
    "vectorizer = CountVectorizer(analyzer = message_cleaning)\n",
    "tweets_countvectorizer_train = CountVectorizer(analyzer = message_cleaning, dtype = 'uint8').fit_transform(FINAL['text content']).toarray()\n"
   ]
  },
  {
   "cell_type": "code",
   "execution_count": 301,
   "id": "736f6949",
   "metadata": {},
   "outputs": [],
   "source": [
    "x = tweets_countvectorizer_train\n",
    "y = FINAL['is_misinfo']\n"
   ]
  },
  {
   "cell_type": "code",
   "execution_count": 302,
   "id": "3f058400",
   "metadata": {},
   "outputs": [],
   "source": [
    "x_train, x_test, y_train, y_test = train_test_split(x, y, test_size = 0.2) "
   ]
  },
  {
   "cell_type": "markdown",
   "id": "4a955ac3",
   "metadata": {},
   "source": [
    "# Model Comparison"
   ]
  },
  {
   "cell_type": "code",
   "execution_count": 304,
   "id": "b71516a7",
   "metadata": {},
   "outputs": [
    {
     "data": {
      "text/plain": [
       "MultinomialNB()"
      ]
     },
     "execution_count": 304,
     "metadata": {},
     "output_type": "execute_result"
    }
   ],
   "source": [
    "\n",
    "NB_classifier = MultinomialNB()\n",
    "NB_classifier.fit(x_train, y_train)"
   ]
  },
  {
   "cell_type": "code",
   "execution_count": 306,
   "id": "3a9c4b13",
   "metadata": {},
   "outputs": [],
   "source": [
    "from sklearn.metrics import classification_report, confusion_matrix"
   ]
  },
  {
   "cell_type": "code",
   "execution_count": 308,
   "id": "81f1a89d",
   "metadata": {},
   "outputs": [
    {
     "name": "stdout",
     "output_type": "stream",
     "text": [
      "Naive Bayes:\n",
      "                precision    recall  f1-score   support\n",
      "\n",
      "           0       0.93      0.94      0.93      2089\n",
      "           1       0.87      0.86      0.86      1062\n",
      "\n",
      "    accuracy                           0.91      3151\n",
      "   macro avg       0.90      0.90      0.90      3151\n",
      "weighted avg       0.91      0.91      0.91      3151\n",
      "\n"
     ]
    }
   ],
   "source": [
    "y_predict_test = NB_classifier.predict(x_test)\n",
    "cm = confusion_matrix(y_test, y_predict_test)\n",
    "print(\"Naive Bayes:\\n \",classification_report(y_test, y_predict_test))"
   ]
  },
  {
   "cell_type": "code",
   "execution_count": 309,
   "id": "6f7ff1f6",
   "metadata": {},
   "outputs": [
    {
     "data": {
      "text/plain": [
       "LogisticRegression()"
      ]
     },
     "execution_count": 309,
     "metadata": {},
     "output_type": "execute_result"
    },
    {
     "name": "stdout",
     "output_type": "stream",
     "text": [
      "              precision    recall  f1-score   support\n",
      "\n",
      "           0       0.91      0.96      0.94      2089\n",
      "           1       0.92      0.82      0.87      1062\n",
      "\n",
      "    accuracy                           0.91      3151\n",
      "   macro avg       0.92      0.89      0.90      3151\n",
      "weighted avg       0.92      0.91      0.91      3151\n",
      "\n"
     ]
    }
   ],
   "source": [
    "from sklearn.linear_model import LogisticRegression\n",
    "from sklearn.preprocessing import StandardScaler\n",
    "# def cluster_kmean(train_text, test_text, test_label):\n",
    "from sklearn.model_selection import train_test_split\n",
    "classfier = LogisticRegression()\n",
    "\n",
    "classfier.fit(x_train, y_train)   \n",
    "y_predict_test = classfier.predict(x_test)\n",
    "cm = confusion_matrix(y_test, classfier.predict(x_test))\n",
    "print(classification_report(y_test, classfier.predict(x_test)))"
   ]
  },
  {
   "cell_type": "code",
   "execution_count": 311,
   "id": "5ca211a5",
   "metadata": {},
   "outputs": [
    {
     "name": "stderr",
     "output_type": "stream",
     "text": [
      "C:\\Users\\Kelvin\\anaconda3\\lib\\site-packages\\xgboost\\sklearn.py:1224: UserWarning: The use of label encoder in XGBClassifier is deprecated and will be removed in a future release. To remove this warning, do the following: 1) Pass option use_label_encoder=False when constructing XGBClassifier object; and 2) Encode your labels (y) as integers starting with 0, i.e. 0, 1, 2, ..., [num_class - 1].\n",
      "  warnings.warn(label_encoder_deprecation_msg, UserWarning)\n"
     ]
    },
    {
     "name": "stdout",
     "output_type": "stream",
     "text": [
      "[04:55:36] WARNING: C:/Users/Administrator/workspace/xgboost-win64_release_1.5.1/src/learner.cc:1115: Starting in XGBoost 1.3.0, the default evaluation metric used with the objective 'binary:logistic' was changed from 'error' to 'logloss'. Explicitly set eval_metric if you'd like to restore the old behavior.\n"
     ]
    },
    {
     "data": {
      "text/plain": [
       "XGBClassifier(base_score=0.5, booster='gbtree', colsample_bylevel=1,\n",
       "              colsample_bynode=1, colsample_bytree=1, enable_categorical=False,\n",
       "              gamma=0, gpu_id=-1, importance_type=None,\n",
       "              interaction_constraints='', learning_rate=0.300000012,\n",
       "              max_delta_step=0, max_depth=6, min_child_weight=1, missing=nan,\n",
       "              monotone_constraints='()', n_estimators=100, n_jobs=16,\n",
       "              num_parallel_tree=1, predictor='auto', random_state=0,\n",
       "              reg_alpha=0, reg_lambda=1, scale_pos_weight=1, subsample=1,\n",
       "              tree_method='exact', validate_parameters=1, verbosity=None)"
      ]
     },
     "execution_count": 311,
     "metadata": {},
     "output_type": "execute_result"
    },
    {
     "name": "stdout",
     "output_type": "stream",
     "text": [
      "xgboost: \n",
      "                precision    recall  f1-score   support\n",
      "\n",
      "           0       0.88      0.96      0.92      2089\n",
      "           1       0.91      0.74      0.82      1062\n",
      "\n",
      "    accuracy                           0.89      3151\n",
      "   macro avg       0.89      0.85      0.87      3151\n",
      "weighted avg       0.89      0.89      0.88      3151\n",
      "\n"
     ]
    }
   ],
   "source": [
    "from xgboost import XGBClassifier\n",
    "XGB = XGBClassifier()\n",
    "XGB.fit(x_train, y_train)\n",
    "cm = confusion_matrix(y_test, XGB.predict(x_test))\n",
    "print(\"xgboost: \\n \",classification_report(y_test, XGB.predict(x_test)))"
   ]
  },
  {
   "cell_type": "code",
   "execution_count": 77,
   "id": "dd43994d",
   "metadata": {},
   "outputs": [
    {
     "data": {
      "text/plain": [
       "\"Those blood pressure medications have had decades of studys.  Wait for the Covid vaccine recalls I '\""
      ]
     },
     "execution_count": 77,
     "metadata": {},
     "output_type": "execute_result"
    }
   ],
   "source": [
    "f = dataset1.iloc[0,1]\n",
    "f"
   ]
  },
  {
   "cell_type": "code",
   "execution_count": 173,
   "id": "5419701e",
   "metadata": {},
   "outputs": [
    {
     "data": {
      "text/html": [
       "<div>\n",
       "<style scoped>\n",
       "    .dataframe tbody tr th:only-of-type {\n",
       "        vertical-align: middle;\n",
       "    }\n",
       "\n",
       "    .dataframe tbody tr th {\n",
       "        vertical-align: top;\n",
       "    }\n",
       "\n",
       "    .dataframe thead th {\n",
       "        text-align: right;\n",
       "    }\n",
       "</style>\n",
       "<table border=\"1\" class=\"dataframe\">\n",
       "  <thead>\n",
       "    <tr style=\"text-align: right;\">\n",
       "      <th></th>\n",
       "      <th>a</th>\n",
       "    </tr>\n",
       "  </thead>\n",
       "  <tbody>\n",
       "    <tr>\n",
       "      <th>0</th>\n",
       "      <td>those blood pressure medication have have deca...</td>\n",
       "    </tr>\n",
       "    <tr>\n",
       "      <th>1</th>\n",
       "      <td>kettering health doctor work build trust close...</td>\n",
       "    </tr>\n",
       "    <tr>\n",
       "      <th>2</th>\n",
       "      <td>now the time get boost household member covid ...</td>\n",
       "    </tr>\n",
       "    <tr>\n",
       "      <th>3</th>\n",
       "      <td>watch dudu sherarami director public health en...</td>\n",
       "    </tr>\n",
       "    <tr>\n",
       "      <th>4</th>\n",
       "      <td>partnership with the cayuga county health depa...</td>\n",
       "    </tr>\n",
       "    <tr>\n",
       "      <th>...</th>\n",
       "      <td>...</td>\n",
       "    </tr>\n",
       "    <tr>\n",
       "      <th>2998</th>\n",
       "      <td>why miralax laxative the covid vaccine have sp...</td>\n",
       "    </tr>\n",
       "    <tr>\n",
       "      <th>2999</th>\n",
       "      <td>icymi florida republican rep byron donalds joi...</td>\n",
       "    </tr>\n",
       "    <tr>\n",
       "      <th>3000</th>\n",
       "      <td>file this under shit ive be say since hence th...</td>\n",
       "    </tr>\n",
       "    <tr>\n",
       "      <th>3001</th>\n",
       "      <td>the news moderna now have billion sign deal fo...</td>\n",
       "    </tr>\n",
       "    <tr>\n",
       "      <th>3002</th>\n",
       "      <td>injection objection guy hatchard discuss polis...</td>\n",
       "    </tr>\n",
       "  </tbody>\n",
       "</table>\n",
       "<p>3000 rows × 1 columns</p>\n",
       "</div>"
      ],
      "text/plain": [
       "                                                      a\n",
       "0     those blood pressure medication have have deca...\n",
       "1     kettering health doctor work build trust close...\n",
       "2     now the time get boost household member covid ...\n",
       "3     watch dudu sherarami director public health en...\n",
       "4     partnership with the cayuga county health depa...\n",
       "...                                                 ...\n",
       "2998  why miralax laxative the covid vaccine have sp...\n",
       "2999  icymi florida republican rep byron donalds joi...\n",
       "3000  file this under shit ive be say since hence th...\n",
       "3001  the news moderna now have billion sign deal fo...\n",
       "3002  injection objection guy hatchard discuss polis...\n",
       "\n",
       "[3000 rows x 1 columns]"
      ]
     },
     "execution_count": 173,
     "metadata": {},
     "output_type": "execute_result"
    }
   ],
   "source": [
    "Text_final"
   ]
  },
  {
   "cell_type": "code",
   "execution_count": 42,
   "id": "dccdf1ab",
   "metadata": {},
   "outputs": [
    {
     "data": {
      "text/plain": [
       "'!\"#$%&\\'()*+,-./:;<=>?@[\\\\]^_`{|}~'"
      ]
     },
     "execution_count": 42,
     "metadata": {},
     "output_type": "execute_result"
    }
   ],
   "source": [
    "# import string\n",
    "# string.punctuation\n",
    "# def message_cleaning(message):\n",
    "#     Test_punc_removed = [char for char in message if char not in string.punctuation]\n",
    "#     Test_punc_removed_join =''.join(Test_punc_removed)\n",
    "#     Test_punc_removed_join_clean = [word for word in Test_punc_removed_join.split() if word.lower() not in stopwords.words('english')]\n",
    "#     return Test_punc_removed_join_clean"
   ]
  },
  {
   "cell_type": "code",
   "execution_count": 124,
   "id": "121e7ada",
   "metadata": {},
   "outputs": [
    {
     "data": {
      "text/plain": [
       "<3000x13 sparse matrix of type '<class 'numpy.float64'>'\n",
       "\twith 6516 stored elements in Compressed Sparse Row format>"
      ]
     },
     "execution_count": 124,
     "metadata": {},
     "output_type": "execute_result"
    }
   ],
   "source": [
    "# dataset1_text = [str (item) for item in dataset1['Text']]\n",
    "A0 = Text_final.iloc[0,0]\n",
    "A0 = [A0]\n",
    "A0_tfidfVect = TfidfVectorizer()\n",
    "A0_tfidfVect = A0_tfidfVect.fit(A0)\n",
    "A0_tfidf = A0_tfidfVect.transform(Text_final['a'])\n",
    "A0_tfidf"
   ]
  },
  {
   "cell_type": "code",
   "execution_count": 107,
   "id": "c5769e2b",
   "metadata": {},
   "outputs": [
    {
     "data": {
      "text/plain": [
       "{'those': 10,\n",
       " 'blood': 0,\n",
       " 'pressure': 6,\n",
       " 'medication': 5,\n",
       " 'have': 4,\n",
       " 'decade': 2,\n",
       " 'studys': 8,\n",
       " 'wait': 12,\n",
       " 'for': 3,\n",
       " 'the': 9,\n",
       " 'covid': 1,\n",
       " 'vaccine': 11,\n",
       " 'recall': 7}"
      ]
     },
     "execution_count": 107,
     "metadata": {},
     "output_type": "execute_result"
    },
    {
     "data": {
      "text/html": [
       "<div>\n",
       "<style scoped>\n",
       "    .dataframe tbody tr th:only-of-type {\n",
       "        vertical-align: middle;\n",
       "    }\n",
       "\n",
       "    .dataframe tbody tr th {\n",
       "        vertical-align: top;\n",
       "    }\n",
       "\n",
       "    .dataframe thead th {\n",
       "        text-align: right;\n",
       "    }\n",
       "</style>\n",
       "<table border=\"1\" class=\"dataframe\">\n",
       "  <thead>\n",
       "    <tr style=\"text-align: right;\">\n",
       "      <th></th>\n",
       "      <th>0</th>\n",
       "      <th>1</th>\n",
       "    </tr>\n",
       "  </thead>\n",
       "  <tbody>\n",
       "    <tr>\n",
       "      <th>0</th>\n",
       "      <td>wait</td>\n",
       "      <td>12</td>\n",
       "    </tr>\n",
       "    <tr>\n",
       "      <th>1</th>\n",
       "      <td>vaccine</td>\n",
       "      <td>11</td>\n",
       "    </tr>\n",
       "    <tr>\n",
       "      <th>2</th>\n",
       "      <td>those</td>\n",
       "      <td>10</td>\n",
       "    </tr>\n",
       "    <tr>\n",
       "      <th>3</th>\n",
       "      <td>the</td>\n",
       "      <td>9</td>\n",
       "    </tr>\n",
       "    <tr>\n",
       "      <th>4</th>\n",
       "      <td>studys</td>\n",
       "      <td>8</td>\n",
       "    </tr>\n",
       "    <tr>\n",
       "      <th>5</th>\n",
       "      <td>recall</td>\n",
       "      <td>7</td>\n",
       "    </tr>\n",
       "    <tr>\n",
       "      <th>6</th>\n",
       "      <td>pressure</td>\n",
       "      <td>6</td>\n",
       "    </tr>\n",
       "    <tr>\n",
       "      <th>7</th>\n",
       "      <td>medication</td>\n",
       "      <td>5</td>\n",
       "    </tr>\n",
       "    <tr>\n",
       "      <th>8</th>\n",
       "      <td>have</td>\n",
       "      <td>4</td>\n",
       "    </tr>\n",
       "    <tr>\n",
       "      <th>9</th>\n",
       "      <td>for</td>\n",
       "      <td>3</td>\n",
       "    </tr>\n",
       "    <tr>\n",
       "      <th>10</th>\n",
       "      <td>decade</td>\n",
       "      <td>2</td>\n",
       "    </tr>\n",
       "    <tr>\n",
       "      <th>11</th>\n",
       "      <td>covid</td>\n",
       "      <td>1</td>\n",
       "    </tr>\n",
       "    <tr>\n",
       "      <th>12</th>\n",
       "      <td>blood</td>\n",
       "      <td>0</td>\n",
       "    </tr>\n",
       "  </tbody>\n",
       "</table>\n",
       "</div>"
      ],
      "text/plain": [
       "             0   1\n",
       "0         wait  12\n",
       "1      vaccine  11\n",
       "2        those  10\n",
       "3          the   9\n",
       "4       studys   8\n",
       "5       recall   7\n",
       "6     pressure   6\n",
       "7   medication   5\n",
       "8         have   4\n",
       "9          for   3\n",
       "10      decade   2\n",
       "11       covid   1\n",
       "12       blood   0"
      ]
     },
     "execution_count": 107,
     "metadata": {},
     "output_type": "execute_result"
    }
   ],
   "source": [
    "A0_tfidfVect.vocabulary_\n",
    "A0_tfidf_table = pd.DataFrame(sorted(A0_tfidfVect.vocabulary_.items(),key=lambda pair: pair[1],reverse=True))\n",
    "A0_tfidf_table"
   ]
  },
  {
   "cell_type": "code",
   "execution_count": 102,
   "id": "b6a63c3d",
   "metadata": {},
   "outputs": [],
   "source": [
    "# def message_cleaning(message):\n",
    "#     Test_punc_removed = [char for char in message if char not in string.punctuation]\n",
    "#     Test_punc_removed_join = ''.join(Test_punc_removed)\n",
    "#     Test_punc_removed_join_clean = [word for word in Test_punc_removed_join.split() if word.lower() not in stopwords.words('english')]\n",
    "#     return Test_punc_removed_join_clean"
   ]
  },
  {
   "cell_type": "code",
   "execution_count": 2,
   "id": "ec828477",
   "metadata": {},
   "outputs": [],
   "source": [
    "tweets_data = pd.read_csv(\"C:/Users/Kelvin/Desktop/Assignment/2022Spring/BIA660/Last.csv\")"
   ]
  },
  {
   "cell_type": "code",
   "execution_count": 3,
   "id": "52713c9d",
   "metadata": {},
   "outputs": [
    {
     "data": {
      "text/html": [
       "<div>\n",
       "<style scoped>\n",
       "    .dataframe tbody tr th:only-of-type {\n",
       "        vertical-align: middle;\n",
       "    }\n",
       "\n",
       "    .dataframe tbody tr th {\n",
       "        vertical-align: top;\n",
       "    }\n",
       "\n",
       "    .dataframe thead th {\n",
       "        text-align: right;\n",
       "    }\n",
       "</style>\n",
       "<table border=\"1\" class=\"dataframe\">\n",
       "  <thead>\n",
       "    <tr style=\"text-align: right;\">\n",
       "      <th></th>\n",
       "      <th>is_misinfo</th>\n",
       "      <th>text content</th>\n",
       "      <th>number</th>\n",
       "    </tr>\n",
       "  </thead>\n",
       "  <tbody>\n",
       "    <tr>\n",
       "      <th>0</th>\n",
       "      <td>0</td>\n",
       "      <td>uhg time get second vaccine hope don ’ die lik...</td>\n",
       "      <td>0</td>\n",
       "    </tr>\n",
       "    <tr>\n",
       "      <th>1</th>\n",
       "      <td>1</td>\n",
       "      <td>new censorship twitter say may mislead say ’ g...</td>\n",
       "      <td>1</td>\n",
       "    </tr>\n",
       "    <tr>\n",
       "      <th>2</th>\n",
       "      <td>1</td>\n",
       "      <td>you ’ have covid vaccine ’ thanks part cell ge...</td>\n",
       "      <td>2</td>\n",
       "    </tr>\n",
       "    <tr>\n",
       "      <th>3</th>\n",
       "      <td>0</td>\n",
       "      <td>get second vaccine cant wait still wear mask o...</td>\n",
       "      <td>3</td>\n",
       "    </tr>\n",
       "    <tr>\n",
       "      <th>4</th>\n",
       "      <td>0</td>\n",
       "      <td>postsecond vaccine symptom description like mi...</td>\n",
       "      <td>4</td>\n",
       "    </tr>\n",
       "    <tr>\n",
       "      <th>...</th>\n",
       "      <td>...</td>\n",
       "      <td>...</td>\n",
       "      <td>...</td>\n",
       "    </tr>\n",
       "    <tr>\n",
       "      <th>12746</th>\n",
       "      <td>0</td>\n",
       "      <td>yay mak get vaccine todayy</td>\n",
       "      <td>12746</td>\n",
       "    </tr>\n",
       "    <tr>\n",
       "      <th>12747</th>\n",
       "      <td>0</td>\n",
       "      <td>have the incredible privilege receive the covi...</td>\n",
       "      <td>12747</td>\n",
       "    </tr>\n",
       "    <tr>\n",
       "      <th>12748</th>\n",
       "      <td>0</td>\n",
       "      <td>get first dose vaccine vaccinate nftartist</td>\n",
       "      <td>12748</td>\n",
       "    </tr>\n",
       "    <tr>\n",
       "      <th>12749</th>\n",
       "      <td>1</td>\n",
       "      <td>still have long term evidence impact the vacci...</td>\n",
       "      <td>12749</td>\n",
       "    </tr>\n",
       "    <tr>\n",
       "      <th>12750</th>\n",
       "      <td>0</td>\n",
       "      <td>gon na get first jab the vaccine saturday exci...</td>\n",
       "      <td>12750</td>\n",
       "    </tr>\n",
       "  </tbody>\n",
       "</table>\n",
       "<p>12751 rows × 3 columns</p>\n",
       "</div>"
      ],
      "text/plain": [
       "       is_misinfo                                       text content  number\n",
       "0               0  uhg time get second vaccine hope don ’ die lik...       0\n",
       "1               1  new censorship twitter say may mislead say ’ g...       1\n",
       "2               1  you ’ have covid vaccine ’ thanks part cell ge...       2\n",
       "3               0  get second vaccine cant wait still wear mask o...       3\n",
       "4               0  postsecond vaccine symptom description like mi...       4\n",
       "...           ...                                                ...     ...\n",
       "12746           0                         yay mak get vaccine todayy   12746\n",
       "12747           0  have the incredible privilege receive the covi...   12747\n",
       "12748           0         get first dose vaccine vaccinate nftartist   12748\n",
       "12749           1  still have long term evidence impact the vacci...   12749\n",
       "12750           0  gon na get first jab the vaccine saturday exci...   12750\n",
       "\n",
       "[12751 rows x 3 columns]"
      ]
     },
     "execution_count": 3,
     "metadata": {},
     "output_type": "execute_result"
    }
   ],
   "source": [
    "tweets_data"
   ]
  },
  {
   "cell_type": "markdown",
   "id": "474fec48",
   "metadata": {},
   "source": [
    "# Test Data Accuracy"
   ]
  },
  {
   "cell_type": "code",
   "execution_count": 79,
   "id": "c95e506f",
   "metadata": {},
   "outputs": [
    {
     "data": {
      "text/html": [
       "<div>\n",
       "<style scoped>\n",
       "    .dataframe tbody tr th:only-of-type {\n",
       "        vertical-align: middle;\n",
       "    }\n",
       "\n",
       "    .dataframe tbody tr th {\n",
       "        vertical-align: top;\n",
       "    }\n",
       "\n",
       "    .dataframe thead th {\n",
       "        text-align: right;\n",
       "    }\n",
       "</style>\n",
       "<table border=\"1\" class=\"dataframe\">\n",
       "  <thead>\n",
       "    <tr style=\"text-align: right;\">\n",
       "      <th></th>\n",
       "      <th>a</th>\n",
       "      <th>Label</th>\n",
       "    </tr>\n",
       "  </thead>\n",
       "  <tbody>\n",
       "    <tr>\n",
       "      <th>0</th>\n",
       "      <td>those blood pressure medication have have deca...</td>\n",
       "      <td>0</td>\n",
       "    </tr>\n",
       "    <tr>\n",
       "      <th>1</th>\n",
       "      <td>kettering health doctor work build trust close...</td>\n",
       "      <td>0</td>\n",
       "    </tr>\n",
       "    <tr>\n",
       "      <th>2</th>\n",
       "      <td>now the time get boost household member covid ...</td>\n",
       "      <td>0</td>\n",
       "    </tr>\n",
       "    <tr>\n",
       "      <th>3</th>\n",
       "      <td>watch dudu sherarami director public health en...</td>\n",
       "      <td>1</td>\n",
       "    </tr>\n",
       "    <tr>\n",
       "      <th>4</th>\n",
       "      <td>partnership with the cayuga county health depa...</td>\n",
       "      <td>0</td>\n",
       "    </tr>\n",
       "    <tr>\n",
       "      <th>...</th>\n",
       "      <td>...</td>\n",
       "      <td>...</td>\n",
       "    </tr>\n",
       "    <tr>\n",
       "      <th>2998</th>\n",
       "      <td>why miralax laxative the covid vaccine have sp...</td>\n",
       "      <td>0</td>\n",
       "    </tr>\n",
       "    <tr>\n",
       "      <th>2999</th>\n",
       "      <td>icymi florida republican rep byron donalds joi...</td>\n",
       "      <td>0</td>\n",
       "    </tr>\n",
       "    <tr>\n",
       "      <th>3000</th>\n",
       "      <td>file this under shit ive be say since hence th...</td>\n",
       "      <td>1</td>\n",
       "    </tr>\n",
       "    <tr>\n",
       "      <th>3001</th>\n",
       "      <td>the news moderna now have billion sign deal fo...</td>\n",
       "      <td>0</td>\n",
       "    </tr>\n",
       "    <tr>\n",
       "      <th>3002</th>\n",
       "      <td>injection objection guy hatchard discuss polis...</td>\n",
       "      <td>0</td>\n",
       "    </tr>\n",
       "  </tbody>\n",
       "</table>\n",
       "<p>3000 rows × 2 columns</p>\n",
       "</div>"
      ],
      "text/plain": [
       "                                                      a  Label\n",
       "0     those blood pressure medication have have deca...      0\n",
       "1     kettering health doctor work build trust close...      0\n",
       "2     now the time get boost household member covid ...      0\n",
       "3     watch dudu sherarami director public health en...      1\n",
       "4     partnership with the cayuga county health depa...      0\n",
       "...                                                 ...    ...\n",
       "2998  why miralax laxative the covid vaccine have sp...      0\n",
       "2999  icymi florida republican rep byron donalds joi...      0\n",
       "3000  file this under shit ive be say since hence th...      1\n",
       "3001  the news moderna now have billion sign deal fo...      0\n",
       "3002  injection objection guy hatchard discuss polis...      0\n",
       "\n",
       "[3000 rows x 2 columns]"
      ]
     },
     "execution_count": 79,
     "metadata": {},
     "output_type": "execute_result"
    }
   ],
   "source": [
    "Text_final"
   ]
  },
  {
   "cell_type": "code",
   "execution_count": 80,
   "id": "6a4cb1d3",
   "metadata": {},
   "outputs": [],
   "source": [
    "vectorizer = CountVectorizer(analyzer = message_cleaning)\n",
    "tweets_countvectorizer_train = CountVectorizer(analyzer = message_cleaning, dtype = 'uint8').fit_transform(Text_final['a']).toarray()"
   ]
  },
  {
   "cell_type": "code",
   "execution_count": 81,
   "id": "4911a576",
   "metadata": {},
   "outputs": [],
   "source": [
    "x = tweets_countvectorizer_train\n",
    "y = Text_final['Label']"
   ]
  },
  {
   "cell_type": "code",
   "execution_count": 82,
   "id": "4bf1eed0",
   "metadata": {},
   "outputs": [],
   "source": [
    "x_train, x_test, y_train, y_test = train_test_split(x, y, test_size = 0.2) "
   ]
  },
  {
   "cell_type": "code",
   "execution_count": 83,
   "id": "b0d1a469",
   "metadata": {},
   "outputs": [
    {
     "data": {
      "text/plain": [
       "MultinomialNB()"
      ]
     },
     "execution_count": 83,
     "metadata": {},
     "output_type": "execute_result"
    },
    {
     "name": "stdout",
     "output_type": "stream",
     "text": [
      "Naive Bayes:\n",
      "                precision    recall  f1-score   support\n",
      "\n",
      "           0       0.83      0.89      0.86       425\n",
      "           1       0.68      0.57      0.62       175\n",
      "\n",
      "    accuracy                           0.80       600\n",
      "   macro avg       0.75      0.73      0.74       600\n",
      "weighted avg       0.79      0.80      0.79       600\n",
      "\n"
     ]
    }
   ],
   "source": [
    "from sklearn.metrics import classification_report, confusion_matrix\n",
    "NB_classifier = MultinomialNB()\n",
    "NB_classifier.fit(x_train, y_train)\n",
    "y_predict_test = NB_classifier.predict(x_test)\n",
    "cm = confusion_matrix(y_test, y_predict_test)\n",
    "print(\"Naive Bayes:\\n \",classification_report(y_test, y_predict_test))"
   ]
  },
  {
   "cell_type": "code",
   "execution_count": 84,
   "id": "017ea3bd",
   "metadata": {},
   "outputs": [
    {
     "data": {
      "text/plain": [
       "LogisticRegression()"
      ]
     },
     "execution_count": 84,
     "metadata": {},
     "output_type": "execute_result"
    },
    {
     "name": "stdout",
     "output_type": "stream",
     "text": [
      "              precision    recall  f1-score   support\n",
      "\n",
      "           0       0.81      0.94      0.87       425\n",
      "           1       0.77      0.46      0.58       175\n",
      "\n",
      "    accuracy                           0.80       600\n",
      "   macro avg       0.79      0.70      0.73       600\n",
      "weighted avg       0.80      0.80      0.79       600\n",
      "\n"
     ]
    }
   ],
   "source": [
    "from sklearn.linear_model import LogisticRegression\n",
    "from sklearn.preprocessing import StandardScaler\n",
    "# def cluster_kmean(train_text, test_text, test_label):\n",
    "from sklearn.model_selection import train_test_split\n",
    "classfier = LogisticRegression()\n",
    "\n",
    "classfier.fit(x_train, y_train)   \n",
    "y_predict_test = classfier.predict(x_test)\n",
    "cm = confusion_matrix(y_test, classfier.predict(x_test))\n",
    "print(classification_report(y_test, classfier.predict(x_test)))"
   ]
  },
  {
   "cell_type": "code",
   "execution_count": 85,
   "id": "7bd9c544",
   "metadata": {},
   "outputs": [
    {
     "name": "stderr",
     "output_type": "stream",
     "text": [
      "C:\\Users\\Kelvin\\anaconda3\\lib\\site-packages\\xgboost\\sklearn.py:1224: UserWarning: The use of label encoder in XGBClassifier is deprecated and will be removed in a future release. To remove this warning, do the following: 1) Pass option use_label_encoder=False when constructing XGBClassifier object; and 2) Encode your labels (y) as integers starting with 0, i.e. 0, 1, 2, ..., [num_class - 1].\n",
      "  warnings.warn(label_encoder_deprecation_msg, UserWarning)\n"
     ]
    },
    {
     "name": "stdout",
     "output_type": "stream",
     "text": [
      "[20:11:31] WARNING: C:/Users/Administrator/workspace/xgboost-win64_release_1.5.1/src/learner.cc:1115: Starting in XGBoost 1.3.0, the default evaluation metric used with the objective 'binary:logistic' was changed from 'error' to 'logloss'. Explicitly set eval_metric if you'd like to restore the old behavior.\n"
     ]
    },
    {
     "data": {
      "text/plain": [
       "XGBClassifier(base_score=0.5, booster='gbtree', colsample_bylevel=1,\n",
       "              colsample_bynode=1, colsample_bytree=1, enable_categorical=False,\n",
       "              gamma=0, gpu_id=-1, importance_type=None,\n",
       "              interaction_constraints='', learning_rate=0.300000012,\n",
       "              max_delta_step=0, max_depth=6, min_child_weight=1, missing=nan,\n",
       "              monotone_constraints='()', n_estimators=100, n_jobs=16,\n",
       "              num_parallel_tree=1, predictor='auto', random_state=0,\n",
       "              reg_alpha=0, reg_lambda=1, scale_pos_weight=1, subsample=1,\n",
       "              tree_method='exact', validate_parameters=1, verbosity=None)"
      ]
     },
     "execution_count": 85,
     "metadata": {},
     "output_type": "execute_result"
    },
    {
     "name": "stdout",
     "output_type": "stream",
     "text": [
      "xgboost: \n",
      "                precision    recall  f1-score   support\n",
      "\n",
      "           0       0.81      0.95      0.88       425\n",
      "           1       0.79      0.46      0.58       175\n",
      "\n",
      "    accuracy                           0.81       600\n",
      "   macro avg       0.80      0.71      0.73       600\n",
      "weighted avg       0.81      0.81      0.79       600\n",
      "\n"
     ]
    }
   ],
   "source": [
    "from xgboost import XGBClassifier\n",
    "XGB = XGBClassifier()\n",
    "XGB.fit(x_train, y_train)\n",
    "cm = confusion_matrix(y_test, XGB.predict(x_test))\n",
    "print(\"xgboost: \\n \",classification_report(y_test, XGB.predict(x_test)))"
   ]
  },
  {
   "cell_type": "code",
   "execution_count": 99,
   "id": "7c169791",
   "metadata": {},
   "outputs": [],
   "source": [
    "def cluster_kmean(train_text, test_text, test_label):\n",
    "    \n",
    "    tfidf_vect = TfidfVectorizer(min_df=4,  stop_words='english' ,max_df = 1.0)\n",
    "    dtm = tfidf_vect.fit_transform(train_text)\n",
    "    num_clusters = 4\n",
    "    clusterer = KMeansClusterer(num_clusters, cosine_distance, repeats=20)\n",
    "    clusters = clusterer.cluster(dtm.toarray(), assign_clusters=True)\n",
    "    test_dtm = tfidf_vect.transform(test_text)\n",
    "    predicted = [clusterer.classify(v) for v in test_dtm.toarray()]\n",
    "    confusion_df = pd.DataFrame(list(zip(test_label, predicted)), columns = [\"label\", \"cluster\"])\n",
    "    df = pd.crosstab( index=confusion_df.cluster, columns=confusion_df.label)\n",
    "    labels = dict(df.idxmax(axis = 1))\n",
    "    predicted_target = [labels[i]  for i in predicted]\n",
    "    print(\"Cosine Distance:\\n \",metrics.classification_report(test_label.values, predicted_target))\n",
    "    centroids=np.array(clusterer.means())\n",
    "    sorted_centroids = centroids.argsort()[:, ::-1] \n",
    "    voc_lookup= tfidf_vect.get_feature_names()\n",
    "\n",
    "    for i in range(num_clusters):\n",
    "    \n",
    "    # get words with top 20 tf-idf weight in the centroid\n",
    "      top_words=[voc_lookup[word_index] \\\n",
    "               for word_index in sorted_centroids[i, :20]]\n",
    "      print(\"Cluster %d:\\n %s \" % (i, \"; \".join(top_words)))"
   ]
  },
  {
   "cell_type": "code",
   "execution_count": 100,
   "id": "1b637acf",
   "metadata": {},
   "outputs": [
    {
     "data": {
      "text/html": [
       "<div>\n",
       "<style scoped>\n",
       "    .dataframe tbody tr th:only-of-type {\n",
       "        vertical-align: middle;\n",
       "    }\n",
       "\n",
       "    .dataframe tbody tr th {\n",
       "        vertical-align: top;\n",
       "    }\n",
       "\n",
       "    .dataframe thead th {\n",
       "        text-align: right;\n",
       "    }\n",
       "</style>\n",
       "<table border=\"1\" class=\"dataframe\">\n",
       "  <thead>\n",
       "    <tr style=\"text-align: right;\">\n",
       "      <th></th>\n",
       "      <th>a</th>\n",
       "      <th>Label</th>\n",
       "    </tr>\n",
       "  </thead>\n",
       "  <tbody>\n",
       "    <tr>\n",
       "      <th>0</th>\n",
       "      <td>those blood pressure medication have have deca...</td>\n",
       "      <td>0</td>\n",
       "    </tr>\n",
       "    <tr>\n",
       "      <th>1</th>\n",
       "      <td>kettering health doctor work build trust close...</td>\n",
       "      <td>0</td>\n",
       "    </tr>\n",
       "    <tr>\n",
       "      <th>2</th>\n",
       "      <td>now the time get boost household member covid ...</td>\n",
       "      <td>0</td>\n",
       "    </tr>\n",
       "    <tr>\n",
       "      <th>3</th>\n",
       "      <td>watch dudu sherarami director public health en...</td>\n",
       "      <td>1</td>\n",
       "    </tr>\n",
       "    <tr>\n",
       "      <th>4</th>\n",
       "      <td>partnership with the cayuga county health depa...</td>\n",
       "      <td>0</td>\n",
       "    </tr>\n",
       "    <tr>\n",
       "      <th>...</th>\n",
       "      <td>...</td>\n",
       "      <td>...</td>\n",
       "    </tr>\n",
       "    <tr>\n",
       "      <th>2998</th>\n",
       "      <td>why miralax laxative the covid vaccine have sp...</td>\n",
       "      <td>0</td>\n",
       "    </tr>\n",
       "    <tr>\n",
       "      <th>2999</th>\n",
       "      <td>icymi florida republican rep byron donalds joi...</td>\n",
       "      <td>0</td>\n",
       "    </tr>\n",
       "    <tr>\n",
       "      <th>3000</th>\n",
       "      <td>file this under shit ive be say since hence th...</td>\n",
       "      <td>1</td>\n",
       "    </tr>\n",
       "    <tr>\n",
       "      <th>3001</th>\n",
       "      <td>the news moderna now have billion sign deal fo...</td>\n",
       "      <td>0</td>\n",
       "    </tr>\n",
       "    <tr>\n",
       "      <th>3002</th>\n",
       "      <td>injection objection guy hatchard discuss polis...</td>\n",
       "      <td>0</td>\n",
       "    </tr>\n",
       "  </tbody>\n",
       "</table>\n",
       "<p>3000 rows × 2 columns</p>\n",
       "</div>"
      ],
      "text/plain": [
       "                                                      a  Label\n",
       "0     those blood pressure medication have have deca...      0\n",
       "1     kettering health doctor work build trust close...      0\n",
       "2     now the time get boost household member covid ...      0\n",
       "3     watch dudu sherarami director public health en...      1\n",
       "4     partnership with the cayuga county health depa...      0\n",
       "...                                                 ...    ...\n",
       "2998  why miralax laxative the covid vaccine have sp...      0\n",
       "2999  icymi florida republican rep byron donalds joi...      0\n",
       "3000  file this under shit ive be say since hence th...      1\n",
       "3001  the news moderna now have billion sign deal fo...      0\n",
       "3002  injection objection guy hatchard discuss polis...      0\n",
       "\n",
       "[3000 rows x 2 columns]"
      ]
     },
     "execution_count": 100,
     "metadata": {},
     "output_type": "execute_result"
    }
   ],
   "source": [
    "Text_final"
   ]
  },
  {
   "cell_type": "code",
   "execution_count": 101,
   "id": "20a8fce5",
   "metadata": {},
   "outputs": [],
   "source": [
    "df_train, df_test = train_test_split(Text_final,test_size = 0.2)\n",
    "train_text = df_train[\"a\"]\n",
    "test_label = df_test[\"Label\"]\n",
    "test_text = df_test[\"a\"]"
   ]
  },
  {
   "cell_type": "code",
   "execution_count": 102,
   "id": "e19189e1",
   "metadata": {},
   "outputs": [
    {
     "name": "stderr",
     "output_type": "stream",
     "text": [
      "C:\\Users\\Kelvin\\anaconda3\\lib\\site-packages\\nltk\\cluster\\util.py:130: RuntimeWarning: invalid value encountered in double_scalars\n",
      "  return 1 - (numpy.dot(u, v) / (sqrt(numpy.dot(u, u)) * sqrt(numpy.dot(v, v))))\n"
     ]
    },
    {
     "name": "stdout",
     "output_type": "stream",
     "text": [
      "Cosine Distance:\n",
      "                precision    recall  f1-score   support\n",
      "\n",
      "           0       0.78      0.97      0.87       448\n",
      "           1       0.70      0.21      0.32       152\n",
      "\n",
      "    accuracy                           0.78       600\n",
      "   macro avg       0.74      0.59      0.59       600\n",
      "weighted avg       0.76      0.78      0.73       600\n",
      "\n",
      "Cluster 0:\n",
      " vaccine; covid; know; death; just; like; work; dont; booster; die; vaccinate; amp; clinic; make; think; effect; need; cause; health; doesnt \n",
      "Cluster 1:\n",
      " people; vaccine; covid; say; dose; age; year; child; moderna; million; group; lakh; old; youngster; inoculate; administer; dos; fourth; india; need \n",
      "Cluster 2:\n",
      " mandate; new; athlete; city; performer; york; lift; vaccine; covid; mayor; adam; nyc; exempt; rich; eric; country; poor; pro; end; level \n",
      "Cluster 3:\n",
      " moderna; fda; kid; shot; ask; pfizer; month; approve; young; plan; application; pause; covid; ceo; vaccine; flexibility; soon; child; eligibility; authorization \n"
     ]
    },
    {
     "name": "stderr",
     "output_type": "stream",
     "text": [
      "C:\\Users\\Kelvin\\anaconda3\\lib\\site-packages\\sklearn\\utils\\deprecation.py:87: FutureWarning: Function get_feature_names is deprecated; get_feature_names is deprecated in 1.0 and will be removed in 1.2. Please use get_feature_names_out instead.\n",
      "  warnings.warn(msg, category=FutureWarning)\n"
     ]
    }
   ],
   "source": [
    "cluster_kmean(train_text, test_text, test_label)"
   ]
  },
  {
   "cell_type": "code",
   "execution_count": 106,
   "id": "03584a0e",
   "metadata": {},
   "outputs": [],
   "source": [
    "Model = ['K-means', 'Naive Bayes', 'Logistic Regression', 'Xgboost', 'BERT']\n",
    "accuracy= [0.78, 0.80, 0.80, 0.81, 0.84 ]"
   ]
  },
  {
   "cell_type": "code",
   "execution_count": 107,
   "id": "0f22455a",
   "metadata": {},
   "outputs": [
    {
     "data": {
      "text/plain": [
       "<Figure size 864x288 with 0 Axes>"
      ]
     },
     "execution_count": 107,
     "metadata": {},
     "output_type": "execute_result"
    },
    {
     "data": {
      "text/plain": [
       "(0.7, 0.85)"
      ]
     },
     "execution_count": 107,
     "metadata": {},
     "output_type": "execute_result"
    },
    {
     "data": {
      "text/plain": [
       "<AxesSubplot:>"
      ]
     },
     "execution_count": 107,
     "metadata": {},
     "output_type": "execute_result"
    },
    {
     "data": {
      "image/png": "[encoded data removed]",
      "text/plain": [
       "<Figure size 864x288 with 1 Axes>"
      ]
     },
     "metadata": {
      "needs_background": "light"
     },
     "output_type": "display_data"
    }
   ],
   "source": [
    "import matplotlib.pyplot as plt\n",
    "import seaborn as sns\n",
    "plt.figure(figsize =(12,4));\n",
    "plt.ylim([0.7, 0.85]);\n",
    "sns.barplot(x = Model, y = accuracy)"
   ]
  },
  {
   "cell_type": "code",
   "execution_count": 112,
   "id": "451e0470",
   "metadata": {},
   "outputs": [
    {
     "name": "stdout",
     "output_type": "stream",
     "text": [
      "<class 'pandas.core.frame.DataFrame'>\n",
      "Int64Index: 3000 entries, 0 to 1500\n",
      "Data columns (total 2 columns):\n",
      " #   Column  Non-Null Count  Dtype \n",
      "---  ------  --------------  ----- \n",
      " 0   a       3000 non-null   object\n",
      " 1   Label   3000 non-null   int64 \n",
      "dtypes: int64(1), object(1)\n",
      "memory usage: 70.3+ KB\n"
     ]
    },
    {
     "data": {
      "text/html": [
       "<div>\n",
       "<style scoped>\n",
       "    .dataframe tbody tr th:only-of-type {\n",
       "        vertical-align: middle;\n",
       "    }\n",
       "\n",
       "    .dataframe tbody tr th {\n",
       "        vertical-align: top;\n",
       "    }\n",
       "\n",
       "    .dataframe thead th {\n",
       "        text-align: right;\n",
       "    }\n",
       "</style>\n",
       "<table border=\"1\" class=\"dataframe\">\n",
       "  <thead>\n",
       "    <tr style=\"text-align: right;\">\n",
       "      <th></th>\n",
       "      <th>a</th>\n",
       "      <th>Label</th>\n",
       "    </tr>\n",
       "  </thead>\n",
       "  <tbody>\n",
       "    <tr>\n",
       "      <th>0</th>\n",
       "      <td>those blood pressure medication have have deca...</td>\n",
       "      <td>0</td>\n",
       "    </tr>\n",
       "    <tr>\n",
       "      <th>750</th>\n",
       "      <td>sorry for this inconvenience shipments novavax...</td>\n",
       "      <td>0</td>\n",
       "    </tr>\n",
       "    <tr>\n",
       "      <th>751</th>\n",
       "      <td>delhi central government arrange covid bed all...</td>\n",
       "      <td>0</td>\n",
       "    </tr>\n",
       "    <tr>\n",
       "      <th>205</th>\n",
       "      <td>omg what exactly do the war ukraine have with ...</td>\n",
       "      <td>0</td>\n",
       "    </tr>\n",
       "    <tr>\n",
       "      <th>204</th>\n",
       "      <td>guess who else get covid tff take test tuesday...</td>\n",
       "      <td>0</td>\n",
       "    </tr>\n",
       "    <tr>\n",
       "      <th>...</th>\n",
       "      <td>...</td>\n",
       "      <td>...</td>\n",
       "    </tr>\n",
       "    <tr>\n",
       "      <th>1737</th>\n",
       "      <td>sweden and denmark suspend use moderna covid v...</td>\n",
       "      <td>1</td>\n",
       "    </tr>\n",
       "    <tr>\n",
       "      <th>879</th>\n",
       "      <td>data show that vaccine more effective than ini...</td>\n",
       "      <td>1</td>\n",
       "    </tr>\n",
       "    <tr>\n",
       "      <th>1735</th>\n",
       "      <td>its</td>\n",
       "      <td>1</td>\n",
       "    </tr>\n",
       "    <tr>\n",
       "      <th>1702</th>\n",
       "      <td>trusted messenger can improve covid vaccine he...</td>\n",
       "      <td>1</td>\n",
       "    </tr>\n",
       "    <tr>\n",
       "      <th>1500</th>\n",
       "      <td>what fabulous day less than covid death report...</td>\n",
       "      <td>1</td>\n",
       "    </tr>\n",
       "  </tbody>\n",
       "</table>\n",
       "<p>3000 rows × 2 columns</p>\n",
       "</div>"
      ],
      "text/plain": [
       "                                                      a  Label\n",
       "0     those blood pressure medication have have deca...      0\n",
       "750   sorry for this inconvenience shipments novavax...      0\n",
       "751   delhi central government arrange covid bed all...      0\n",
       "205   omg what exactly do the war ukraine have with ...      0\n",
       "204   guess who else get covid tff take test tuesday...      0\n",
       "...                                                 ...    ...\n",
       "1737  sweden and denmark suspend use moderna covid v...      1\n",
       "879   data show that vaccine more effective than ini...      1\n",
       "1735                                                its      1\n",
       "1702  trusted messenger can improve covid vaccine he...      1\n",
       "1500  what fabulous day less than covid death report...      1\n",
       "\n",
       "[3000 rows x 2 columns]"
      ]
     },
     "execution_count": 112,
     "metadata": {},
     "output_type": "execute_result"
    }
   ],
   "source": [
    "df = Text_final\n",
    "df.sort_values(by=\"Label\" , inplace=True, ascending=True)\n",
    "df.info()\n",
    "df"
   ]
  },
  {
   "cell_type": "code",
   "execution_count": null,
   "id": "1026ab61",
   "metadata": {},
   "outputs": [],
   "source": []
  }
 ],
 "metadata": {
  "kernelspec": {
   "display_name": "Python 3 (ipykernel)",
   "language": "python",
   "name": "python3"
  },
  "language_info": {
   "codemirror_mode": {
    "name": "ipython",
    "version": 3
   },
   "file_extension": ".py",
   "mimetype": "text/x-python",
   "name": "python",
   "nbconvert_exporter": "python",
   "pygments_lexer": "ipython3",
   "version": "3.9.7"
  }
 },
 "nbformat": 4,
 "nbformat_minor": 5
}
